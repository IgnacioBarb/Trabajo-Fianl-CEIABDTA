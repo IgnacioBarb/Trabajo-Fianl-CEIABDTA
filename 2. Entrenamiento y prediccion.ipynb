{
 "cells": [
  {
   "attachments": {},
   "cell_type": "markdown",
   "metadata": {},
   "source": [
    "# **Entrenamiento y predicción**"
   ]
  },
  {
   "attachments": {},
   "cell_type": "markdown",
   "metadata": {},
   "source": [
    "## **Métodos necesarios**"
   ]
  },
  {
   "attachments": {},
   "cell_type": "markdown",
   "metadata": {},
   "source": [
    "### **Matriz de confusión**"
   ]
  },
  {
   "cell_type": "code",
   "execution_count": 1,
   "metadata": {},
   "outputs": [],
   "source": [
    "from sklearn.metrics import confusion_matrix\n",
    "from sklearn.utils.multiclass import unique_labels\n",
    "import numpy as np\n",
    "import itertools\n",
    "import matplotlib.pyplot as plt\n",
    "\n",
    "\n",
    "def plot_confusion_matrix(y_true, y_pred, classes, normalize=False, title='Matriz de Confusión', cmap=plt.cm.Blues):\n",
    "    \"\"\"\n",
    "    Esta función muestra una matriz de confusión en forma gráfica.\n",
    "    \"\"\"\n",
    "    # Crear matriz de confusión\n",
    "    cm = confusion_matrix(y_true, y_pred)\n",
    "\n",
    "    # Normalizar los valores si es necesario\n",
    "    if normalize:\n",
    "        cm = cm.astype('float') / cm.sum(axis=1)[:, np.newaxis]\n",
    "\n",
    "    # Configurar el gráfico\n",
    "    plt.imshow(cm, interpolation='nearest', cmap=cmap)\n",
    "    plt.title(title)\n",
    "    tick_marks = np.arange(len(classes))\n",
    "    plt.xticks(tick_marks, classes, rotation=45)\n",
    "    plt.yticks(tick_marks, classes)\n",
    "\n",
    "    # Etiquetar los ejes\n",
    "    fmt = '.2f' if normalize else 'd'\n",
    "    thresh = cm.max() / 2.\n",
    "    for i, j in itertools.product(range(cm.shape[0]), range(cm.shape[1])):\n",
    "        plt.text(j, i, format(cm[i, j], fmt),\n",
    "                 horizontalalignment=\"center\",\n",
    "                 color=\"white\" if cm[i, j] > thresh else \"black\")\n",
    "\n",
    "    plt.ylabel('Etiqueta Real')\n",
    "    plt.xlabel('Etiqueta Predicha')\n",
    "    plt.tight_layout()\n",
    "    plt.show()\n"
   ]
  },
  {
   "attachments": {},
   "cell_type": "markdown",
   "metadata": {},
   "source": [
    "# **1. Enfoque 1 - Frecuencia Mel**"
   ]
  },
  {
   "attachments": {},
   "cell_type": "markdown",
   "metadata": {},
   "source": [
    "### Empezamos importando los datos"
   ]
  },
  {
   "cell_type": "code",
   "execution_count": 2,
   "metadata": {},
   "outputs": [
    {
     "data": {
      "text/html": [
       "<div>\n",
       "<style scoped>\n",
       "    .dataframe tbody tr th:only-of-type {\n",
       "        vertical-align: middle;\n",
       "    }\n",
       "\n",
       "    .dataframe tbody tr th {\n",
       "        vertical-align: top;\n",
       "    }\n",
       "\n",
       "    .dataframe thead th {\n",
       "        text-align: right;\n",
       "    }\n",
       "</style>\n",
       "<table border=\"1\" class=\"dataframe\">\n",
       "  <thead>\n",
       "    <tr style=\"text-align: right;\">\n",
       "      <th></th>\n",
       "      <th>feature</th>\n",
       "      <th>label</th>\n",
       "    </tr>\n",
       "  </thead>\n",
       "  <tbody>\n",
       "    <tr>\n",
       "      <th>0</th>\n",
       "      <td>[-655.03894     63.1695      10.757038    21.1...</td>\n",
       "      <td>whistle</td>\n",
       "    </tr>\n",
       "    <tr>\n",
       "      <th>1</th>\n",
       "      <td>[-578.7469      81.91728    -10.924023    11.2...</td>\n",
       "      <td>whistle</td>\n",
       "    </tr>\n",
       "    <tr>\n",
       "      <th>2</th>\n",
       "      <td>[-567.00964    82.101105  -14.731988   12.7339...</td>\n",
       "      <td>whistle</td>\n",
       "    </tr>\n",
       "    <tr>\n",
       "      <th>3</th>\n",
       "      <td>[-576.83685     77.57335    -15.542832    14.3...</td>\n",
       "      <td>whistle</td>\n",
       "    </tr>\n",
       "    <tr>\n",
       "      <th>4</th>\n",
       "      <td>[-557.8747      78.30917    -13.749625    16.7...</td>\n",
       "      <td>whistle</td>\n",
       "    </tr>\n",
       "    <tr>\n",
       "      <th>...</th>\n",
       "      <td>...</td>\n",
       "      <td>...</td>\n",
       "    </tr>\n",
       "    <tr>\n",
       "      <th>5454</th>\n",
       "      <td>[-562.69415     70.66823     -6.884647    23.8...</td>\n",
       "      <td>allfreq</td>\n",
       "    </tr>\n",
       "    <tr>\n",
       "      <th>5455</th>\n",
       "      <td>[-546.1909      69.080666   -14.523592    22.1...</td>\n",
       "      <td>allfreq</td>\n",
       "    </tr>\n",
       "    <tr>\n",
       "      <th>5456</th>\n",
       "      <td>[-586.30975     74.10078     -6.768806    26.6...</td>\n",
       "      <td>allfreq</td>\n",
       "    </tr>\n",
       "    <tr>\n",
       "      <th>5457</th>\n",
       "      <td>[-585.0476      75.75177     -2.8806534   26.3...</td>\n",
       "      <td>allfreq</td>\n",
       "    </tr>\n",
       "    <tr>\n",
       "      <th>5458</th>\n",
       "      <td>[-565.68317     85.92473     -8.174224    20.7...</td>\n",
       "      <td>allfreq</td>\n",
       "    </tr>\n",
       "  </tbody>\n",
       "</table>\n",
       "<p>5459 rows × 2 columns</p>\n",
       "</div>"
      ],
      "text/plain": [
       "                                                feature    label\n",
       "0     [-655.03894     63.1695      10.757038    21.1...  whistle\n",
       "1     [-578.7469      81.91728    -10.924023    11.2...  whistle\n",
       "2     [-567.00964    82.101105  -14.731988   12.7339...  whistle\n",
       "3     [-576.83685     77.57335    -15.542832    14.3...  whistle\n",
       "4     [-557.8747      78.30917    -13.749625    16.7...  whistle\n",
       "...                                                 ...      ...\n",
       "5454  [-562.69415     70.66823     -6.884647    23.8...  allfreq\n",
       "5455  [-546.1909      69.080666   -14.523592    22.1...  allfreq\n",
       "5456  [-586.30975     74.10078     -6.768806    26.6...  allfreq\n",
       "5457  [-585.0476      75.75177     -2.8806534   26.3...  allfreq\n",
       "5458  [-565.68317     85.92473     -8.174224    20.7...  allfreq\n",
       "\n",
       "[5459 rows x 2 columns]"
      ]
     },
     "execution_count": 2,
     "metadata": {},
     "output_type": "execute_result"
    }
   ],
   "source": [
    "import pandas as pd\n",
    "\n",
    "# Obtenemos el dataset desde el archivo creado en el anterior notebook\n",
    "df = pd.read_csv('./Datos/enfoque1/dataframe.csv')\n",
    "df"
   ]
  },
  {
   "attachments": {},
   "cell_type": "markdown",
   "metadata": {},
   "source": [
    "Como podemos observar al cargar el dataset tenemos la parte de las `feature` en una string eso es un problema asique vamos a transformar de string a un array "
   ]
  },
  {
   "cell_type": "code",
   "execution_count": 3,
   "metadata": {},
   "outputs": [
    {
     "name": "stdout",
     "output_type": "stream",
     "text": [
      "<class 'str'>\n",
      "<class 'numpy.ndarray'>\n"
     ]
    }
   ],
   "source": [
    "import numpy as np\n",
    "\n",
    "# Imprimir el tipo de datos del primer elemento de la columna 'feature'\n",
    "print(type(df['feature'][0]))\n",
    "\n",
    "def convert_to_array(str_val):\n",
    "    # Reemplazar los caracteres '\\n' por una cadena vacía '' y los espacios duplicados '  ' por un solo espacio ' '\n",
    "    str_val = str_val.replace('\\n', '').replace('  ', ' ')\n",
    "    # Eliminar los corchetes '[' y ']' alrededor de la cadena\n",
    "    str_val = str_val.strip('[]')\n",
    "    # Dividir la cadena en una lista de cadenas utilizando el espacio como separador\n",
    "    features_list = str_val.split()\n",
    "    # Convertir cada cadena en un número de punto flotante y agregarlos a la lista 'features'\n",
    "    features = [float(value) for value in features_list]\n",
    "    # Retornar una matriz NumPy creada a partir de la lista 'features'\n",
    "    return np.array(features)\n",
    "\n",
    "# Aplicar la función 'convert_to_array' a cada elemento de la columna 'feature'\n",
    "df['feature'] = df['feature'].apply(convert_to_array)\n",
    "\n",
    "# Imprimir el tipo de datos del primer elemento de la columna 'feature' después de la conversión\n",
    "print(type(df['feature'][0]))"
   ]
  },
  {
   "attachments": {},
   "cell_type": "markdown",
   "metadata": {},
   "source": [
    "Ahora vamos a crear nuestra `X` y nuestra `y` \n",
    "\n",
    "**`X` :**\n",
    "\n",
    "Sera un dataframe de 20 columnas siendo cada columna un número de la frecuencia mel\n",
    "\n",
    "**`y` :**\n",
    "\n",
    "Sera un df de 1 columna compuesto de las clases a las que pertenece cada audio\n"
   ]
  },
  {
   "cell_type": "code",
   "execution_count": 4,
   "metadata": {},
   "outputs": [],
   "source": [
    "features = df['feature'].to_list()\n",
    "X = pd.DataFrame(columns=range(len(features[0])), data=features)\n",
    "y = df.drop(columns='feature')"
   ]
  },
  {
   "cell_type": "code",
   "execution_count": 5,
   "metadata": {},
   "outputs": [
    {
     "data": {
      "text/html": [
       "<div>\n",
       "<style scoped>\n",
       "    .dataframe tbody tr th:only-of-type {\n",
       "        vertical-align: middle;\n",
       "    }\n",
       "\n",
       "    .dataframe tbody tr th {\n",
       "        vertical-align: top;\n",
       "    }\n",
       "\n",
       "    .dataframe thead th {\n",
       "        text-align: right;\n",
       "    }\n",
       "</style>\n",
       "<table border=\"1\" class=\"dataframe\">\n",
       "  <thead>\n",
       "    <tr style=\"text-align: right;\">\n",
       "      <th></th>\n",
       "      <th>0</th>\n",
       "      <th>1</th>\n",
       "      <th>2</th>\n",
       "      <th>3</th>\n",
       "      <th>4</th>\n",
       "      <th>5</th>\n",
       "      <th>6</th>\n",
       "      <th>7</th>\n",
       "      <th>8</th>\n",
       "      <th>9</th>\n",
       "      <th>10</th>\n",
       "      <th>11</th>\n",
       "      <th>12</th>\n",
       "      <th>13</th>\n",
       "      <th>14</th>\n",
       "      <th>15</th>\n",
       "      <th>16</th>\n",
       "      <th>17</th>\n",
       "      <th>18</th>\n",
       "      <th>19</th>\n",
       "    </tr>\n",
       "  </thead>\n",
       "  <tbody>\n",
       "    <tr>\n",
       "      <th>0</th>\n",
       "      <td>-655.03894</td>\n",
       "      <td>63.169500</td>\n",
       "      <td>10.757038</td>\n",
       "      <td>21.136215</td>\n",
       "      <td>4.484089</td>\n",
       "      <td>31.330320</td>\n",
       "      <td>3.066183</td>\n",
       "      <td>24.712875</td>\n",
       "      <td>-8.296095</td>\n",
       "      <td>24.142025</td>\n",
       "      <td>-8.248991</td>\n",
       "      <td>26.009697</td>\n",
       "      <td>-10.733233</td>\n",
       "      <td>20.804834</td>\n",
       "      <td>-10.760571</td>\n",
       "      <td>18.188063</td>\n",
       "      <td>-6.863329</td>\n",
       "      <td>14.063175</td>\n",
       "      <td>-4.090499</td>\n",
       "      <td>8.624461</td>\n",
       "    </tr>\n",
       "    <tr>\n",
       "      <th>1</th>\n",
       "      <td>-578.74690</td>\n",
       "      <td>81.917280</td>\n",
       "      <td>-10.924023</td>\n",
       "      <td>11.234460</td>\n",
       "      <td>-4.377991</td>\n",
       "      <td>20.155209</td>\n",
       "      <td>5.583762</td>\n",
       "      <td>24.466402</td>\n",
       "      <td>-9.740192</td>\n",
       "      <td>20.394806</td>\n",
       "      <td>-8.053699</td>\n",
       "      <td>22.449516</td>\n",
       "      <td>-6.228172</td>\n",
       "      <td>21.965550</td>\n",
       "      <td>-12.222945</td>\n",
       "      <td>17.091827</td>\n",
       "      <td>-6.970063</td>\n",
       "      <td>15.083657</td>\n",
       "      <td>-9.954753</td>\n",
       "      <td>11.730551</td>\n",
       "    </tr>\n",
       "    <tr>\n",
       "      <th>2</th>\n",
       "      <td>-567.00964</td>\n",
       "      <td>82.101105</td>\n",
       "      <td>-14.731988</td>\n",
       "      <td>12.733934</td>\n",
       "      <td>-8.998794</td>\n",
       "      <td>20.640368</td>\n",
       "      <td>9.156942</td>\n",
       "      <td>21.845205</td>\n",
       "      <td>-13.367733</td>\n",
       "      <td>22.585958</td>\n",
       "      <td>-6.374838</td>\n",
       "      <td>20.176239</td>\n",
       "      <td>-5.401113</td>\n",
       "      <td>21.010586</td>\n",
       "      <td>-6.475297</td>\n",
       "      <td>17.895168</td>\n",
       "      <td>-5.158005</td>\n",
       "      <td>12.614172</td>\n",
       "      <td>-3.478589</td>\n",
       "      <td>9.361365</td>\n",
       "    </tr>\n",
       "    <tr>\n",
       "      <th>3</th>\n",
       "      <td>-576.83685</td>\n",
       "      <td>77.573350</td>\n",
       "      <td>-15.542832</td>\n",
       "      <td>14.319379</td>\n",
       "      <td>-9.472738</td>\n",
       "      <td>22.840683</td>\n",
       "      <td>3.852125</td>\n",
       "      <td>23.177464</td>\n",
       "      <td>-13.300287</td>\n",
       "      <td>25.567421</td>\n",
       "      <td>-9.818583</td>\n",
       "      <td>22.131670</td>\n",
       "      <td>-5.557333</td>\n",
       "      <td>20.641937</td>\n",
       "      <td>-7.259668</td>\n",
       "      <td>17.392326</td>\n",
       "      <td>-7.789606</td>\n",
       "      <td>13.903425</td>\n",
       "      <td>-2.200932</td>\n",
       "      <td>9.534672</td>\n",
       "    </tr>\n",
       "    <tr>\n",
       "      <th>4</th>\n",
       "      <td>-557.87470</td>\n",
       "      <td>78.309170</td>\n",
       "      <td>-13.749625</td>\n",
       "      <td>16.721146</td>\n",
       "      <td>-4.221141</td>\n",
       "      <td>25.743467</td>\n",
       "      <td>4.223830</td>\n",
       "      <td>23.770823</td>\n",
       "      <td>-5.493849</td>\n",
       "      <td>21.148441</td>\n",
       "      <td>-13.086636</td>\n",
       "      <td>17.771463</td>\n",
       "      <td>-8.402151</td>\n",
       "      <td>17.739447</td>\n",
       "      <td>-10.582404</td>\n",
       "      <td>15.450899</td>\n",
       "      <td>-8.976308</td>\n",
       "      <td>14.232722</td>\n",
       "      <td>-4.587385</td>\n",
       "      <td>9.733555</td>\n",
       "    </tr>\n",
       "    <tr>\n",
       "      <th>...</th>\n",
       "      <td>...</td>\n",
       "      <td>...</td>\n",
       "      <td>...</td>\n",
       "      <td>...</td>\n",
       "      <td>...</td>\n",
       "      <td>...</td>\n",
       "      <td>...</td>\n",
       "      <td>...</td>\n",
       "      <td>...</td>\n",
       "      <td>...</td>\n",
       "      <td>...</td>\n",
       "      <td>...</td>\n",
       "      <td>...</td>\n",
       "      <td>...</td>\n",
       "      <td>...</td>\n",
       "      <td>...</td>\n",
       "      <td>...</td>\n",
       "      <td>...</td>\n",
       "      <td>...</td>\n",
       "      <td>...</td>\n",
       "    </tr>\n",
       "    <tr>\n",
       "      <th>5454</th>\n",
       "      <td>-562.69415</td>\n",
       "      <td>70.668230</td>\n",
       "      <td>-6.884647</td>\n",
       "      <td>23.808416</td>\n",
       "      <td>-1.290732</td>\n",
       "      <td>26.164165</td>\n",
       "      <td>1.366706</td>\n",
       "      <td>22.283495</td>\n",
       "      <td>-10.204620</td>\n",
       "      <td>18.495432</td>\n",
       "      <td>-8.033647</td>\n",
       "      <td>24.025715</td>\n",
       "      <td>-4.661413</td>\n",
       "      <td>20.114210</td>\n",
       "      <td>-6.924646</td>\n",
       "      <td>16.165075</td>\n",
       "      <td>-5.864742</td>\n",
       "      <td>14.081470</td>\n",
       "      <td>-3.513756</td>\n",
       "      <td>10.816447</td>\n",
       "    </tr>\n",
       "    <tr>\n",
       "      <th>5455</th>\n",
       "      <td>-546.19090</td>\n",
       "      <td>69.080666</td>\n",
       "      <td>-14.523592</td>\n",
       "      <td>22.163635</td>\n",
       "      <td>-4.684685</td>\n",
       "      <td>23.391790</td>\n",
       "      <td>-1.798233</td>\n",
       "      <td>20.151752</td>\n",
       "      <td>-8.400525</td>\n",
       "      <td>17.420397</td>\n",
       "      <td>-7.451912</td>\n",
       "      <td>20.247835</td>\n",
       "      <td>-4.005499</td>\n",
       "      <td>17.937338</td>\n",
       "      <td>-4.813669</td>\n",
       "      <td>13.338392</td>\n",
       "      <td>-3.977106</td>\n",
       "      <td>11.021453</td>\n",
       "      <td>-1.196533</td>\n",
       "      <td>8.189395</td>\n",
       "    </tr>\n",
       "    <tr>\n",
       "      <th>5456</th>\n",
       "      <td>-586.30975</td>\n",
       "      <td>74.100780</td>\n",
       "      <td>-6.768806</td>\n",
       "      <td>26.699821</td>\n",
       "      <td>1.114983</td>\n",
       "      <td>26.583038</td>\n",
       "      <td>1.371233</td>\n",
       "      <td>26.010954</td>\n",
       "      <td>-7.421478</td>\n",
       "      <td>21.659900</td>\n",
       "      <td>-6.534761</td>\n",
       "      <td>23.863783</td>\n",
       "      <td>-6.375581</td>\n",
       "      <td>19.512798</td>\n",
       "      <td>-6.906247</td>\n",
       "      <td>16.490310</td>\n",
       "      <td>-4.215941</td>\n",
       "      <td>13.495682</td>\n",
       "      <td>-1.765210</td>\n",
       "      <td>8.991456</td>\n",
       "    </tr>\n",
       "    <tr>\n",
       "      <th>5457</th>\n",
       "      <td>-585.04760</td>\n",
       "      <td>75.751770</td>\n",
       "      <td>-2.880653</td>\n",
       "      <td>26.330290</td>\n",
       "      <td>3.998790</td>\n",
       "      <td>28.459420</td>\n",
       "      <td>2.180055</td>\n",
       "      <td>23.271072</td>\n",
       "      <td>-5.082721</td>\n",
       "      <td>22.738983</td>\n",
       "      <td>-7.349165</td>\n",
       "      <td>22.668991</td>\n",
       "      <td>-4.029947</td>\n",
       "      <td>19.612257</td>\n",
       "      <td>-5.611763</td>\n",
       "      <td>15.260265</td>\n",
       "      <td>-4.970442</td>\n",
       "      <td>13.279258</td>\n",
       "      <td>-1.227788</td>\n",
       "      <td>10.630218</td>\n",
       "    </tr>\n",
       "    <tr>\n",
       "      <th>5458</th>\n",
       "      <td>-565.68317</td>\n",
       "      <td>85.924730</td>\n",
       "      <td>-8.174224</td>\n",
       "      <td>20.762474</td>\n",
       "      <td>-2.105165</td>\n",
       "      <td>24.697674</td>\n",
       "      <td>-2.831236</td>\n",
       "      <td>22.305454</td>\n",
       "      <td>-6.004370</td>\n",
       "      <td>20.521950</td>\n",
       "      <td>-13.760574</td>\n",
       "      <td>17.605580</td>\n",
       "      <td>-5.642008</td>\n",
       "      <td>24.130165</td>\n",
       "      <td>-3.326583</td>\n",
       "      <td>16.313229</td>\n",
       "      <td>-7.209080</td>\n",
       "      <td>10.370816</td>\n",
       "      <td>-4.510864</td>\n",
       "      <td>7.938403</td>\n",
       "    </tr>\n",
       "  </tbody>\n",
       "</table>\n",
       "<p>5459 rows × 20 columns</p>\n",
       "</div>"
      ],
      "text/plain": [
       "             0          1          2          3         4          5    \n",
       "0    -655.03894  63.169500  10.757038  21.136215  4.484089  31.330320  \\\n",
       "1    -578.74690  81.917280 -10.924023  11.234460 -4.377991  20.155209   \n",
       "2    -567.00964  82.101105 -14.731988  12.733934 -8.998794  20.640368   \n",
       "3    -576.83685  77.573350 -15.542832  14.319379 -9.472738  22.840683   \n",
       "4    -557.87470  78.309170 -13.749625  16.721146 -4.221141  25.743467   \n",
       "...         ...        ...        ...        ...       ...        ...   \n",
       "5454 -562.69415  70.668230  -6.884647  23.808416 -1.290732  26.164165   \n",
       "5455 -546.19090  69.080666 -14.523592  22.163635 -4.684685  23.391790   \n",
       "5456 -586.30975  74.100780  -6.768806  26.699821  1.114983  26.583038   \n",
       "5457 -585.04760  75.751770  -2.880653  26.330290  3.998790  28.459420   \n",
       "5458 -565.68317  85.924730  -8.174224  20.762474 -2.105165  24.697674   \n",
       "\n",
       "            6          7          8          9          10         11   \n",
       "0     3.066183  24.712875  -8.296095  24.142025  -8.248991  26.009697  \\\n",
       "1     5.583762  24.466402  -9.740192  20.394806  -8.053699  22.449516   \n",
       "2     9.156942  21.845205 -13.367733  22.585958  -6.374838  20.176239   \n",
       "3     3.852125  23.177464 -13.300287  25.567421  -9.818583  22.131670   \n",
       "4     4.223830  23.770823  -5.493849  21.148441 -13.086636  17.771463   \n",
       "...        ...        ...        ...        ...        ...        ...   \n",
       "5454  1.366706  22.283495 -10.204620  18.495432  -8.033647  24.025715   \n",
       "5455 -1.798233  20.151752  -8.400525  17.420397  -7.451912  20.247835   \n",
       "5456  1.371233  26.010954  -7.421478  21.659900  -6.534761  23.863783   \n",
       "5457  2.180055  23.271072  -5.082721  22.738983  -7.349165  22.668991   \n",
       "5458 -2.831236  22.305454  -6.004370  20.521950 -13.760574  17.605580   \n",
       "\n",
       "             12         13         14         15        16         17   \n",
       "0    -10.733233  20.804834 -10.760571  18.188063 -6.863329  14.063175  \\\n",
       "1     -6.228172  21.965550 -12.222945  17.091827 -6.970063  15.083657   \n",
       "2     -5.401113  21.010586  -6.475297  17.895168 -5.158005  12.614172   \n",
       "3     -5.557333  20.641937  -7.259668  17.392326 -7.789606  13.903425   \n",
       "4     -8.402151  17.739447 -10.582404  15.450899 -8.976308  14.232722   \n",
       "...         ...        ...        ...        ...       ...        ...   \n",
       "5454  -4.661413  20.114210  -6.924646  16.165075 -5.864742  14.081470   \n",
       "5455  -4.005499  17.937338  -4.813669  13.338392 -3.977106  11.021453   \n",
       "5456  -6.375581  19.512798  -6.906247  16.490310 -4.215941  13.495682   \n",
       "5457  -4.029947  19.612257  -5.611763  15.260265 -4.970442  13.279258   \n",
       "5458  -5.642008  24.130165  -3.326583  16.313229 -7.209080  10.370816   \n",
       "\n",
       "            18         19  \n",
       "0    -4.090499   8.624461  \n",
       "1    -9.954753  11.730551  \n",
       "2    -3.478589   9.361365  \n",
       "3    -2.200932   9.534672  \n",
       "4    -4.587385   9.733555  \n",
       "...        ...        ...  \n",
       "5454 -3.513756  10.816447  \n",
       "5455 -1.196533   8.189395  \n",
       "5456 -1.765210   8.991456  \n",
       "5457 -1.227788  10.630218  \n",
       "5458 -4.510864   7.938403  \n",
       "\n",
       "[5459 rows x 20 columns]"
      ]
     },
     "execution_count": 5,
     "metadata": {},
     "output_type": "execute_result"
    }
   ],
   "source": [
    "X"
   ]
  },
  {
   "cell_type": "code",
   "execution_count": 6,
   "metadata": {},
   "outputs": [
    {
     "data": {
      "text/html": [
       "<div>\n",
       "<style scoped>\n",
       "    .dataframe tbody tr th:only-of-type {\n",
       "        vertical-align: middle;\n",
       "    }\n",
       "\n",
       "    .dataframe tbody tr th {\n",
       "        vertical-align: top;\n",
       "    }\n",
       "\n",
       "    .dataframe thead th {\n",
       "        text-align: right;\n",
       "    }\n",
       "</style>\n",
       "<table border=\"1\" class=\"dataframe\">\n",
       "  <thead>\n",
       "    <tr style=\"text-align: right;\">\n",
       "      <th></th>\n",
       "      <th>label</th>\n",
       "    </tr>\n",
       "  </thead>\n",
       "  <tbody>\n",
       "    <tr>\n",
       "      <th>0</th>\n",
       "      <td>whistle</td>\n",
       "    </tr>\n",
       "    <tr>\n",
       "      <th>1</th>\n",
       "      <td>whistle</td>\n",
       "    </tr>\n",
       "    <tr>\n",
       "      <th>2</th>\n",
       "      <td>whistle</td>\n",
       "    </tr>\n",
       "    <tr>\n",
       "      <th>3</th>\n",
       "      <td>whistle</td>\n",
       "    </tr>\n",
       "    <tr>\n",
       "      <th>4</th>\n",
       "      <td>whistle</td>\n",
       "    </tr>\n",
       "    <tr>\n",
       "      <th>...</th>\n",
       "      <td>...</td>\n",
       "    </tr>\n",
       "    <tr>\n",
       "      <th>5454</th>\n",
       "      <td>allfreq</td>\n",
       "    </tr>\n",
       "    <tr>\n",
       "      <th>5455</th>\n",
       "      <td>allfreq</td>\n",
       "    </tr>\n",
       "    <tr>\n",
       "      <th>5456</th>\n",
       "      <td>allfreq</td>\n",
       "    </tr>\n",
       "    <tr>\n",
       "      <th>5457</th>\n",
       "      <td>allfreq</td>\n",
       "    </tr>\n",
       "    <tr>\n",
       "      <th>5458</th>\n",
       "      <td>allfreq</td>\n",
       "    </tr>\n",
       "  </tbody>\n",
       "</table>\n",
       "<p>5459 rows × 1 columns</p>\n",
       "</div>"
      ],
      "text/plain": [
       "        label\n",
       "0     whistle\n",
       "1     whistle\n",
       "2     whistle\n",
       "3     whistle\n",
       "4     whistle\n",
       "...       ...\n",
       "5454  allfreq\n",
       "5455  allfreq\n",
       "5456  allfreq\n",
       "5457  allfreq\n",
       "5458  allfreq\n",
       "\n",
       "[5459 rows x 1 columns]"
      ]
     },
     "execution_count": 6,
     "metadata": {},
     "output_type": "execute_result"
    }
   ],
   "source": [
    "y"
   ]
  },
  {
   "attachments": {},
   "cell_type": "markdown",
   "metadata": {},
   "source": [
    "### Dividendo el data set"
   ]
  },
  {
   "cell_type": "code",
   "execution_count": 7,
   "metadata": {},
   "outputs": [],
   "source": [
    "from sklearn.model_selection import train_test_split\n",
    "\n",
    "# Dividir el tercio aleatorio en un 20% para el conjunto de prueba y un 80% para el conjunto de entrenamiento\n",
    "X_train, X_test, y_train, y_test = train_test_split(\n",
    "    X, y, test_size=0.2, random_state=42)\n"
   ]
  },
  {
   "attachments": {},
   "cell_type": "markdown",
   "metadata": {},
   "source": [
    "### Eligiendo los modelos"
   ]
  },
  {
   "attachments": {},
   "cell_type": "markdown",
   "metadata": {},
   "source": [
    "Voy a utilizar una librería llamada lazypredict para obtener una simulación de los varios modelos me quedare con los 2 mejores para hacer mis entrenamientos"
   ]
  },
  {
   "cell_type": "code",
   "execution_count": 8,
   "metadata": {},
   "outputs": [
    {
     "name": "stderr",
     "output_type": "stream",
     "text": [
      "100%|██████████| 29/29 [00:09<00:00,  2.99it/s]\n"
     ]
    },
    {
     "data": {
      "text/html": [
       "<div>\n",
       "<style scoped>\n",
       "    .dataframe tbody tr th:only-of-type {\n",
       "        vertical-align: middle;\n",
       "    }\n",
       "\n",
       "    .dataframe tbody tr th {\n",
       "        vertical-align: top;\n",
       "    }\n",
       "\n",
       "    .dataframe thead th {\n",
       "        text-align: right;\n",
       "    }\n",
       "</style>\n",
       "<table border=\"1\" class=\"dataframe\">\n",
       "  <thead>\n",
       "    <tr style=\"text-align: right;\">\n",
       "      <th></th>\n",
       "      <th>Accuracy</th>\n",
       "      <th>Balanced Accuracy</th>\n",
       "      <th>ROC AUC</th>\n",
       "      <th>F1 Score</th>\n",
       "      <th>Time Taken</th>\n",
       "    </tr>\n",
       "    <tr>\n",
       "      <th>Model</th>\n",
       "      <th></th>\n",
       "      <th></th>\n",
       "      <th></th>\n",
       "      <th></th>\n",
       "      <th></th>\n",
       "    </tr>\n",
       "  </thead>\n",
       "  <tbody>\n",
       "    <tr>\n",
       "      <th>RandomForestClassifier</th>\n",
       "      <td>0.71</td>\n",
       "      <td>0.40</td>\n",
       "      <td>None</td>\n",
       "      <td>0.69</td>\n",
       "      <td>1.55</td>\n",
       "    </tr>\n",
       "    <tr>\n",
       "      <th>SVC</th>\n",
       "      <td>0.71</td>\n",
       "      <td>0.40</td>\n",
       "      <td>None</td>\n",
       "      <td>0.69</td>\n",
       "      <td>0.76</td>\n",
       "    </tr>\n",
       "    <tr>\n",
       "      <th>ExtraTreesClassifier</th>\n",
       "      <td>0.70</td>\n",
       "      <td>0.39</td>\n",
       "      <td>None</td>\n",
       "      <td>0.68</td>\n",
       "      <td>0.46</td>\n",
       "    </tr>\n",
       "    <tr>\n",
       "      <th>LGBMClassifier</th>\n",
       "      <td>0.70</td>\n",
       "      <td>0.40</td>\n",
       "      <td>None</td>\n",
       "      <td>0.68</td>\n",
       "      <td>0.32</td>\n",
       "    </tr>\n",
       "    <tr>\n",
       "      <th>BaggingClassifier</th>\n",
       "      <td>0.69</td>\n",
       "      <td>0.40</td>\n",
       "      <td>None</td>\n",
       "      <td>0.68</td>\n",
       "      <td>0.67</td>\n",
       "    </tr>\n",
       "    <tr>\n",
       "      <th>RidgeClassifierCV</th>\n",
       "      <td>0.68</td>\n",
       "      <td>0.36</td>\n",
       "      <td>None</td>\n",
       "      <td>0.64</td>\n",
       "      <td>0.03</td>\n",
       "    </tr>\n",
       "    <tr>\n",
       "      <th>LinearSVC</th>\n",
       "      <td>0.68</td>\n",
       "      <td>0.36</td>\n",
       "      <td>None</td>\n",
       "      <td>0.65</td>\n",
       "      <td>0.60</td>\n",
       "    </tr>\n",
       "    <tr>\n",
       "      <th>CalibratedClassifierCV</th>\n",
       "      <td>0.68</td>\n",
       "      <td>0.36</td>\n",
       "      <td>None</td>\n",
       "      <td>0.65</td>\n",
       "      <td>2.30</td>\n",
       "    </tr>\n",
       "    <tr>\n",
       "      <th>RidgeClassifier</th>\n",
       "      <td>0.68</td>\n",
       "      <td>0.36</td>\n",
       "      <td>None</td>\n",
       "      <td>0.64</td>\n",
       "      <td>0.03</td>\n",
       "    </tr>\n",
       "    <tr>\n",
       "      <th>LogisticRegression</th>\n",
       "      <td>0.67</td>\n",
       "      <td>0.36</td>\n",
       "      <td>None</td>\n",
       "      <td>0.64</td>\n",
       "      <td>0.09</td>\n",
       "    </tr>\n",
       "    <tr>\n",
       "      <th>LinearDiscriminantAnalysis</th>\n",
       "      <td>0.67</td>\n",
       "      <td>0.36</td>\n",
       "      <td>None</td>\n",
       "      <td>0.64</td>\n",
       "      <td>0.03</td>\n",
       "    </tr>\n",
       "    <tr>\n",
       "      <th>SGDClassifier</th>\n",
       "      <td>0.67</td>\n",
       "      <td>0.36</td>\n",
       "      <td>None</td>\n",
       "      <td>0.64</td>\n",
       "      <td>0.09</td>\n",
       "    </tr>\n",
       "    <tr>\n",
       "      <th>KNeighborsClassifier</th>\n",
       "      <td>0.65</td>\n",
       "      <td>0.43</td>\n",
       "      <td>None</td>\n",
       "      <td>0.66</td>\n",
       "      <td>0.15</td>\n",
       "    </tr>\n",
       "    <tr>\n",
       "      <th>Perceptron</th>\n",
       "      <td>0.62</td>\n",
       "      <td>0.35</td>\n",
       "      <td>None</td>\n",
       "      <td>0.61</td>\n",
       "      <td>0.03</td>\n",
       "    </tr>\n",
       "    <tr>\n",
       "      <th>GaussianNB</th>\n",
       "      <td>0.61</td>\n",
       "      <td>0.49</td>\n",
       "      <td>None</td>\n",
       "      <td>0.62</td>\n",
       "      <td>0.02</td>\n",
       "    </tr>\n",
       "    <tr>\n",
       "      <th>DecisionTreeClassifier</th>\n",
       "      <td>0.61</td>\n",
       "      <td>0.38</td>\n",
       "      <td>None</td>\n",
       "      <td>0.61</td>\n",
       "      <td>0.11</td>\n",
       "    </tr>\n",
       "    <tr>\n",
       "      <th>QuadraticDiscriminantAnalysis</th>\n",
       "      <td>0.61</td>\n",
       "      <td>0.45</td>\n",
       "      <td>None</td>\n",
       "      <td>0.63</td>\n",
       "      <td>0.03</td>\n",
       "    </tr>\n",
       "    <tr>\n",
       "      <th>LabelSpreading</th>\n",
       "      <td>0.60</td>\n",
       "      <td>0.39</td>\n",
       "      <td>None</td>\n",
       "      <td>0.61</td>\n",
       "      <td>0.82</td>\n",
       "    </tr>\n",
       "    <tr>\n",
       "      <th>LabelPropagation</th>\n",
       "      <td>0.60</td>\n",
       "      <td>0.39</td>\n",
       "      <td>None</td>\n",
       "      <td>0.61</td>\n",
       "      <td>0.69</td>\n",
       "    </tr>\n",
       "    <tr>\n",
       "      <th>BernoulliNB</th>\n",
       "      <td>0.59</td>\n",
       "      <td>0.47</td>\n",
       "      <td>None</td>\n",
       "      <td>0.57</td>\n",
       "      <td>0.03</td>\n",
       "    </tr>\n",
       "    <tr>\n",
       "      <th>ExtraTreeClassifier</th>\n",
       "      <td>0.58</td>\n",
       "      <td>0.35</td>\n",
       "      <td>None</td>\n",
       "      <td>0.58</td>\n",
       "      <td>0.03</td>\n",
       "    </tr>\n",
       "    <tr>\n",
       "      <th>DummyClassifier</th>\n",
       "      <td>0.55</td>\n",
       "      <td>0.25</td>\n",
       "      <td>None</td>\n",
       "      <td>0.39</td>\n",
       "      <td>0.02</td>\n",
       "    </tr>\n",
       "    <tr>\n",
       "      <th>PassiveAggressiveClassifier</th>\n",
       "      <td>0.50</td>\n",
       "      <td>0.31</td>\n",
       "      <td>None</td>\n",
       "      <td>0.54</td>\n",
       "      <td>0.03</td>\n",
       "    </tr>\n",
       "    <tr>\n",
       "      <th>NearestCentroid</th>\n",
       "      <td>0.33</td>\n",
       "      <td>0.42</td>\n",
       "      <td>None</td>\n",
       "      <td>0.40</td>\n",
       "      <td>0.02</td>\n",
       "    </tr>\n",
       "    <tr>\n",
       "      <th>AdaBoostClassifier</th>\n",
       "      <td>0.31</td>\n",
       "      <td>0.38</td>\n",
       "      <td>None</td>\n",
       "      <td>0.35</td>\n",
       "      <td>0.75</td>\n",
       "    </tr>\n",
       "  </tbody>\n",
       "</table>\n",
       "</div>"
      ],
      "text/plain": [
       "                               Accuracy  Balanced Accuracy ROC AUC  F1 Score   \n",
       "Model                                                                          \n",
       "RandomForestClassifier             0.71               0.40    None      0.69  \\\n",
       "SVC                                0.71               0.40    None      0.69   \n",
       "ExtraTreesClassifier               0.70               0.39    None      0.68   \n",
       "LGBMClassifier                     0.70               0.40    None      0.68   \n",
       "BaggingClassifier                  0.69               0.40    None      0.68   \n",
       "RidgeClassifierCV                  0.68               0.36    None      0.64   \n",
       "LinearSVC                          0.68               0.36    None      0.65   \n",
       "CalibratedClassifierCV             0.68               0.36    None      0.65   \n",
       "RidgeClassifier                    0.68               0.36    None      0.64   \n",
       "LogisticRegression                 0.67               0.36    None      0.64   \n",
       "LinearDiscriminantAnalysis         0.67               0.36    None      0.64   \n",
       "SGDClassifier                      0.67               0.36    None      0.64   \n",
       "KNeighborsClassifier               0.65               0.43    None      0.66   \n",
       "Perceptron                         0.62               0.35    None      0.61   \n",
       "GaussianNB                         0.61               0.49    None      0.62   \n",
       "DecisionTreeClassifier             0.61               0.38    None      0.61   \n",
       "QuadraticDiscriminantAnalysis      0.61               0.45    None      0.63   \n",
       "LabelSpreading                     0.60               0.39    None      0.61   \n",
       "LabelPropagation                   0.60               0.39    None      0.61   \n",
       "BernoulliNB                        0.59               0.47    None      0.57   \n",
       "ExtraTreeClassifier                0.58               0.35    None      0.58   \n",
       "DummyClassifier                    0.55               0.25    None      0.39   \n",
       "PassiveAggressiveClassifier        0.50               0.31    None      0.54   \n",
       "NearestCentroid                    0.33               0.42    None      0.40   \n",
       "AdaBoostClassifier                 0.31               0.38    None      0.35   \n",
       "\n",
       "                               Time Taken  \n",
       "Model                                      \n",
       "RandomForestClassifier               1.55  \n",
       "SVC                                  0.76  \n",
       "ExtraTreesClassifier                 0.46  \n",
       "LGBMClassifier                       0.32  \n",
       "BaggingClassifier                    0.67  \n",
       "RidgeClassifierCV                    0.03  \n",
       "LinearSVC                            0.60  \n",
       "CalibratedClassifierCV               2.30  \n",
       "RidgeClassifier                      0.03  \n",
       "LogisticRegression                   0.09  \n",
       "LinearDiscriminantAnalysis           0.03  \n",
       "SGDClassifier                        0.09  \n",
       "KNeighborsClassifier                 0.15  \n",
       "Perceptron                           0.03  \n",
       "GaussianNB                           0.02  \n",
       "DecisionTreeClassifier               0.11  \n",
       "QuadraticDiscriminantAnalysis        0.03  \n",
       "LabelSpreading                       0.82  \n",
       "LabelPropagation                     0.69  \n",
       "BernoulliNB                          0.03  \n",
       "ExtraTreeClassifier                  0.03  \n",
       "DummyClassifier                      0.02  \n",
       "PassiveAggressiveClassifier          0.03  \n",
       "NearestCentroid                      0.02  \n",
       "AdaBoostClassifier                   0.75  "
      ]
     },
     "execution_count": 8,
     "metadata": {},
     "output_type": "execute_result"
    }
   ],
   "source": [
    "from lazypredict.Supervised import LazyClassifier\n",
    "\n",
    "clf = LazyClassifier(verbose=0, ignore_warnings=True, custom_metric=None)\n",
    "models, predictions = clf.fit(X_train, X_test, y_train, y_test)\n",
    "models.sort_values('Accuracy', ascending=False)\n"
   ]
  },
  {
   "attachments": {},
   "cell_type": "markdown",
   "metadata": {},
   "source": [
    "## **RandomForestClassifier**"
   ]
  },
  {
   "attachments": {},
   "cell_type": "markdown",
   "metadata": {},
   "source": [
    "Lo primero a realizar va a ser la obtención de los mejores parámetros para ello utilizare `RandomizedSearchCV`"
   ]
  },
  {
   "cell_type": "code",
   "execution_count": 9,
   "metadata": {},
   "outputs": [
    {
     "name": "stdout",
     "output_type": "stream",
     "text": [
      "Done!\n"
     ]
    }
   ],
   "source": [
    "from sklearn.ensemble import RandomForestClassifier\n",
    "from sklearn.model_selection import RandomizedSearchCV\n",
    "\n",
    "# Definir los hiperparámetros a explorar en el modelo\n",
    "param_dist = {\n",
    "    'n_estimators': [100, 200, 300, 400, 500],\n",
    "    'criterion': ['gini', 'entropy'],\n",
    "    'max_depth': [None, 5, 10],\n",
    "    'min_samples_split': [2, 5, 10],\n",
    "    'min_samples_leaf': [1, 2, 4],\n",
    "    'max_features': ['auto', 'sqrt'],\n",
    "    'bootstrap': [True, False],\n",
    "    'class_weight': [None, 'balanced'],\n",
    "}\n",
    "\n",
    "# Crear un objeto SVC y aplicar la búsqueda aleatoria de hiperparámetros\n",
    "rf_classifier = RandomForestClassifier(n_jobs=-1)\n",
    "\n",
    "random_rfc = RandomizedSearchCV(\n",
    "    estimator=rf_classifier, param_distributions=param_dist, cv=5, random_state=0, n_jobs=-1)\n",
    "random_rfc.fit(X_train, y_train)\n",
    "print('Done!')\n"
   ]
  },
  {
   "attachments": {},
   "cell_type": "markdown",
   "metadata": {},
   "source": [
    "Una vez ya tengo los parámetros realizare un entrenamiento y una predicción y mostrare la matriz de confusión"
   ]
  },
  {
   "cell_type": "code",
   "execution_count": 10,
   "metadata": {},
   "outputs": [
    {
     "name": "stdout",
     "output_type": "stream",
     "text": [
      "Best params: {'n_estimators': 300, 'min_samples_split': 5, 'min_samples_leaf': 1, 'max_features': 'auto', 'max_depth': None, 'criterion': 'entropy', 'class_weight': None, 'bootstrap': True}\n",
      "Accuracy: 0.7161172161172161\n"
     ]
    },
    {
     "data": {
      "image/png": "[encoded data removed]",
      "text/plain": [
       "<Figure size 640x480 with 1 Axes>"
      ]
     },
     "metadata": {},
     "output_type": "display_data"
    }
   ],
   "source": [
    "from sklearn.metrics import accuracy_score\n",
    "\n",
    "rfc = random_rfc.best_estimator_.fit(X_train, y_train)\n",
    "\n",
    "# Realizar predicciones en el conjunto de prueba\n",
    "y_pred = rfc.predict(X_test)\n",
    "\n",
    "# Calcular la precisión del modelo\n",
    "accuracy = accuracy_score(y_test, y_pred)\n",
    "print(\"Best params:\", random_rfc.best_params_)\n",
    "print(\"Accuracy:\", accuracy)\n",
    "\n",
    "# Imprimir matriz de confusión\n",
    "plot_confusion_matrix(y_test, y_pred, classes=unique_labels(y_test, y_pred))\n"
   ]
  },
  {
   "attachments": {},
   "cell_type": "markdown",
   "metadata": {},
   "source": [
    "## **SVC**"
   ]
  },
  {
   "attachments": {},
   "cell_type": "markdown",
   "metadata": {},
   "source": [
    "Lo primero a realizar va a ser la obtención de los mejores parámetros para ello utilizare `RandomizedSearchCV`"
   ]
  },
  {
   "cell_type": "code",
   "execution_count": 11,
   "metadata": {},
   "outputs": [
    {
     "name": "stdout",
     "output_type": "stream",
     "text": [
      "Done!\n"
     ]
    }
   ],
   "source": [
    "from sklearn.svm import SVC\n",
    "from sklearn.model_selection import RandomizedSearchCV\n",
    "\n",
    "# Definir los hiperparámetros a explorar en el modelo\n",
    "param_dist = {\n",
    "    'C': [1, 10],\n",
    "    'kernel': ['linear', 'poly', 'rbf', 'sigmoid'],\n",
    "    'degree': [2, 3, 4, 5],\n",
    "    'gamma': ['scale', 'auto'],\n",
    "    'shrinking': [False],\n",
    "    'decision_function_shape': ['ovo', 'ovr'],\n",
    "    'break_ties': [True, False]\n",
    "}\n",
    "\n",
    "# Crear un objeto SVC y aplicar la búsqueda aleatoria de hiperparámetros\n",
    "svm = SVC()\n",
    "\n",
    "random_svm = RandomizedSearchCV(\n",
    "    estimator=svm, param_distributions=param_dist, cv=5, random_state=0, n_jobs=-1)\n",
    "random_svm.fit(X_train, y_train)\n",
    "print('Done!')\n"
   ]
  },
  {
   "attachments": {},
   "cell_type": "markdown",
   "metadata": {},
   "source": [
    "Una vez ya tengo los parámetros realizare un entrenamiento y una predicción y mostrare la matriz de confusión"
   ]
  },
  {
   "cell_type": "code",
   "execution_count": 12,
   "metadata": {},
   "outputs": [
    {
     "name": "stdout",
     "output_type": "stream",
     "text": [
      "Best params: {'shrinking': False, 'kernel': 'poly', 'gamma': 'auto', 'degree': 2, 'decision_function_shape': 'ovr', 'break_ties': False, 'C': 1}\n",
      "Accuracy: 0.6804029304029304\n"
     ]
    },
    {
     "data": {
      "image/png": "[encoded data removed]",
      "text/plain": [
       "<Figure size 640x480 with 1 Axes>"
      ]
     },
     "metadata": {},
     "output_type": "display_data"
    }
   ],
   "source": [
    "from sklearn.metrics import accuracy_score\n",
    "\n",
    "svc = random_svm.best_estimator_.fit(X_train, y_train)\n",
    "\n",
    "y_pred = svc.predict(X_test)\n",
    "\n",
    "# Calcular la precisión del modelo\n",
    "accuracy = accuracy_score(y_test, y_pred)\n",
    "print(\"Best params:\", random_svm.best_params_)\n",
    "print(\"Accuracy:\", accuracy)\n",
    "\n",
    "# Imprimir matriz de confusión\n",
    "plot_confusion_matrix(y_test, y_pred, classes=unique_labels(y_test, y_pred))\n"
   ]
  },
  {
   "attachments": {},
   "cell_type": "markdown",
   "metadata": {},
   "source": [
    "## **Red Neuronal con LSTM**"
   ]
  },
  {
   "attachments": {},
   "cell_type": "markdown",
   "metadata": {},
   "source": [
    "Realizamos la codificación de etiquetas y la conversión a codificación one-hot para los datos de destino `y_train` y `y_test`."
   ]
  },
  {
   "cell_type": "code",
   "execution_count": 21,
   "metadata": {},
   "outputs": [],
   "source": [
    "from sklearn.preprocessing import LabelEncoder\n",
    "from keras.utils import to_categorical\n",
    "\n",
    "# Combinar y_train y y_test\n",
    "y_combined = np.concatenate((y_train, y_test), axis=0)\n",
    "\n",
    "# Aplicar LabelEncoder y to_categorical a y_combined\n",
    "le = LabelEncoder()\n",
    "y_encoded = le.fit_transform(y_combined)\n",
    "y_categorical = to_categorical(y_encoded)\n",
    "\n",
    "# Dividir nuevamente en y_train y y_test\n",
    "y_train = y_categorical[:len(y_train)]\n",
    "y_test = y_categorical[len(y_train):]\n"
   ]
  },
  {
   "attachments": {},
   "cell_type": "markdown",
   "metadata": {},
   "source": [
    "A continuación vamos a crear el modelo y realizar un entrenamiento, luego obtendremos el loss y la precisión de nuestro modelo"
   ]
  },
  {
   "cell_type": "code",
   "execution_count": 22,
   "metadata": {},
   "outputs": [
    {
     "name": "stdout",
     "output_type": "stream",
     "text": [
      "Epoch 1/50\n",
      "35/35 [==============================] - 2s 18ms/step - loss: 1.0028 - accuracy: 0.5200 - val_loss: 0.9196 - val_accuracy: 0.5769\n",
      "Epoch 2/50\n",
      "35/35 [==============================] - 0s 7ms/step - loss: 0.9162 - accuracy: 0.5560 - val_loss: 0.8713 - val_accuracy: 0.5943\n",
      "Epoch 3/50\n",
      "35/35 [==============================] - 0s 7ms/step - loss: 0.9029 - accuracy: 0.5752 - val_loss: 0.8464 - val_accuracy: 0.6255\n",
      "Epoch 4/50\n",
      "35/35 [==============================] - 0s 6ms/step - loss: 0.8771 - accuracy: 0.5906 - val_loss: 0.8575 - val_accuracy: 0.6310\n",
      "Epoch 5/50\n",
      "35/35 [==============================] - 0s 7ms/step - loss: 0.8728 - accuracy: 0.5929 - val_loss: 0.8369 - val_accuracy: 0.6364\n",
      "Epoch 6/50\n",
      "35/35 [==============================] - 0s 6ms/step - loss: 0.8720 - accuracy: 0.5876 - val_loss: 0.8421 - val_accuracy: 0.6612\n",
      "Epoch 7/50\n",
      "35/35 [==============================] - 0s 7ms/step - loss: 0.8958 - accuracy: 0.5800 - val_loss: 0.8371 - val_accuracy: 0.6538\n",
      "Epoch 8/50\n",
      "35/35 [==============================] - 0s 7ms/step - loss: 0.8598 - accuracy: 0.6061 - val_loss: 0.8315 - val_accuracy: 0.6520\n",
      "Epoch 9/50\n",
      "35/35 [==============================] - 0s 7ms/step - loss: 0.8532 - accuracy: 0.6192 - val_loss: 0.8295 - val_accuracy: 0.6832\n",
      "Epoch 10/50\n",
      "35/35 [==============================] - 0s 7ms/step - loss: 0.8473 - accuracy: 0.6146 - val_loss: 0.8121 - val_accuracy: 0.6575\n",
      "Epoch 11/50\n",
      "35/35 [==============================] - 0s 7ms/step - loss: 0.8468 - accuracy: 0.6254 - val_loss: 0.8304 - val_accuracy: 0.6593\n",
      "Epoch 12/50\n",
      "35/35 [==============================] - 0s 6ms/step - loss: 0.8356 - accuracy: 0.6249 - val_loss: 0.8057 - val_accuracy: 0.6877\n",
      "Epoch 13/50\n",
      "35/35 [==============================] - 0s 7ms/step - loss: 0.8456 - accuracy: 0.6263 - val_loss: 0.8043 - val_accuracy: 0.6795\n",
      "Epoch 14/50\n",
      "35/35 [==============================] - 0s 7ms/step - loss: 0.8268 - accuracy: 0.6318 - val_loss: 0.7988 - val_accuracy: 0.6767\n",
      "Epoch 15/50\n",
      "35/35 [==============================] - 0s 7ms/step - loss: 0.8221 - accuracy: 0.6387 - val_loss: 0.7839 - val_accuracy: 0.6749\n",
      "Epoch 16/50\n",
      "35/35 [==============================] - 0s 6ms/step - loss: 0.8122 - accuracy: 0.6359 - val_loss: 0.7857 - val_accuracy: 0.6868\n",
      "Epoch 17/50\n",
      "35/35 [==============================] - 0s 7ms/step - loss: 0.8143 - accuracy: 0.6412 - val_loss: 0.7997 - val_accuracy: 0.6621\n",
      "Epoch 18/50\n",
      "35/35 [==============================] - 0s 7ms/step - loss: 0.8277 - accuracy: 0.6350 - val_loss: 0.7990 - val_accuracy: 0.6822\n",
      "Epoch 19/50\n",
      "35/35 [==============================] - 0s 6ms/step - loss: 0.8110 - accuracy: 0.6384 - val_loss: 0.7734 - val_accuracy: 0.6777\n",
      "Epoch 20/50\n",
      "35/35 [==============================] - 0s 7ms/step - loss: 0.8122 - accuracy: 0.6389 - val_loss: 0.7841 - val_accuracy: 0.6859\n",
      "Epoch 21/50\n",
      "35/35 [==============================] - 0s 7ms/step - loss: 0.7987 - accuracy: 0.6469 - val_loss: 0.7833 - val_accuracy: 0.6548\n",
      "Epoch 22/50\n",
      "35/35 [==============================] - 0s 7ms/step - loss: 0.8036 - accuracy: 0.6437 - val_loss: 0.7653 - val_accuracy: 0.6694\n",
      "Epoch 23/50\n",
      "35/35 [==============================] - 0s 7ms/step - loss: 0.7902 - accuracy: 0.6451 - val_loss: 0.7707 - val_accuracy: 0.6822\n",
      "Epoch 24/50\n",
      "35/35 [==============================] - 0s 7ms/step - loss: 0.7904 - accuracy: 0.6483 - val_loss: 0.7701 - val_accuracy: 0.6896\n",
      "Epoch 25/50\n",
      "35/35 [==============================] - 0s 7ms/step - loss: 0.7949 - accuracy: 0.6490 - val_loss: 0.7778 - val_accuracy: 0.6749\n",
      "Epoch 26/50\n",
      "35/35 [==============================] - 0s 6ms/step - loss: 0.7868 - accuracy: 0.6540 - val_loss: 0.7711 - val_accuracy: 0.6740\n",
      "Epoch 27/50\n",
      "35/35 [==============================] - 0s 6ms/step - loss: 0.7830 - accuracy: 0.6524 - val_loss: 0.7690 - val_accuracy: 0.6767\n",
      "Epoch 28/50\n",
      "35/35 [==============================] - 0s 7ms/step - loss: 0.7749 - accuracy: 0.6570 - val_loss: 0.7695 - val_accuracy: 0.6630\n",
      "Epoch 29/50\n",
      "35/35 [==============================] - 0s 6ms/step - loss: 0.7787 - accuracy: 0.6620 - val_loss: 0.7629 - val_accuracy: 0.6658\n",
      "Epoch 30/50\n",
      "35/35 [==============================] - 0s 6ms/step - loss: 0.7758 - accuracy: 0.6547 - val_loss: 0.7547 - val_accuracy: 0.6859\n",
      "Epoch 31/50\n",
      "35/35 [==============================] - 0s 6ms/step - loss: 0.7854 - accuracy: 0.6409 - val_loss: 0.7518 - val_accuracy: 0.6941\n",
      "Epoch 32/50\n",
      "35/35 [==============================] - 0s 7ms/step - loss: 0.7720 - accuracy: 0.6611 - val_loss: 0.7534 - val_accuracy: 0.6886\n",
      "Epoch 33/50\n",
      "35/35 [==============================] - 0s 7ms/step - loss: 0.7642 - accuracy: 0.6638 - val_loss: 0.7513 - val_accuracy: 0.6795\n",
      "Epoch 34/50\n",
      "35/35 [==============================] - 0s 7ms/step - loss: 0.7663 - accuracy: 0.6572 - val_loss: 0.7662 - val_accuracy: 0.6886\n",
      "Epoch 35/50\n",
      "35/35 [==============================] - 0s 7ms/step - loss: 0.7612 - accuracy: 0.6627 - val_loss: 0.7618 - val_accuracy: 0.6832\n",
      "Epoch 36/50\n",
      "35/35 [==============================] - 0s 7ms/step - loss: 0.7567 - accuracy: 0.6673 - val_loss: 0.7623 - val_accuracy: 0.6804\n",
      "Epoch 37/50\n",
      "35/35 [==============================] - 0s 7ms/step - loss: 0.7557 - accuracy: 0.6616 - val_loss: 0.7490 - val_accuracy: 0.6969\n",
      "Epoch 38/50\n",
      "35/35 [==============================] - 0s 6ms/step - loss: 0.7608 - accuracy: 0.6643 - val_loss: 0.7609 - val_accuracy: 0.6813\n",
      "Epoch 39/50\n",
      "35/35 [==============================] - 0s 6ms/step - loss: 0.7544 - accuracy: 0.6664 - val_loss: 0.7639 - val_accuracy: 0.6832\n",
      "Epoch 40/50\n",
      "35/35 [==============================] - 0s 7ms/step - loss: 0.7497 - accuracy: 0.6762 - val_loss: 0.7404 - val_accuracy: 0.7005\n",
      "Epoch 41/50\n",
      "35/35 [==============================] - 0s 6ms/step - loss: 0.7503 - accuracy: 0.6703 - val_loss: 0.7541 - val_accuracy: 0.6877\n",
      "Epoch 42/50\n",
      "35/35 [==============================] - 0s 6ms/step - loss: 0.7418 - accuracy: 0.6751 - val_loss: 0.7605 - val_accuracy: 0.6868\n",
      "Epoch 43/50\n",
      "35/35 [==============================] - 0s 7ms/step - loss: 0.7470 - accuracy: 0.6659 - val_loss: 0.7502 - val_accuracy: 0.6978\n",
      "Epoch 44/50\n",
      "35/35 [==============================] - 0s 7ms/step - loss: 0.7459 - accuracy: 0.6709 - val_loss: 0.7555 - val_accuracy: 0.6932\n",
      "Epoch 45/50\n",
      "35/35 [==============================] - 0s 7ms/step - loss: 0.7395 - accuracy: 0.6716 - val_loss: 0.7498 - val_accuracy: 0.6841\n",
      "Epoch 46/50\n",
      "35/35 [==============================] - 0s 7ms/step - loss: 0.7399 - accuracy: 0.6780 - val_loss: 0.7534 - val_accuracy: 0.6987\n",
      "Epoch 47/50\n",
      "35/35 [==============================] - 0s 7ms/step - loss: 0.7369 - accuracy: 0.6721 - val_loss: 0.7345 - val_accuracy: 0.6960\n",
      "Epoch 48/50\n",
      "35/35 [==============================] - 0s 7ms/step - loss: 0.7284 - accuracy: 0.6741 - val_loss: 0.7578 - val_accuracy: 0.6868\n",
      "Epoch 49/50\n",
      "35/35 [==============================] - 0s 7ms/step - loss: 0.7352 - accuracy: 0.6730 - val_loss: 0.7599 - val_accuracy: 0.6795\n",
      "Epoch 50/50\n",
      "35/35 [==============================] - 0s 8ms/step - loss: 0.7390 - accuracy: 0.6799 - val_loss: 0.7491 - val_accuracy: 0.7005\n",
      "35/35 [==============================] - 0s 3ms/step - loss: 0.7491 - accuracy: 0.7005\n",
      "Loss: 0.7491366863250732\n",
      "Accuracy: 0.7005494236946106\n"
     ]
    }
   ],
   "source": [
    "from keras.models import Sequential\n",
    "from keras.layers import LSTM, Dense\n",
    "\n",
    "\n",
    "# Definir la arquitectura del modelo\n",
    "model = Sequential()\n",
    "model.add(LSTM(128, input_shape=(X_train.shape[1], 1)))\n",
    "model.add(Dense(32))\n",
    "model.add(Dense(64))\n",
    "model.add(Dense(128))\n",
    "model.add(Dense(5, activation='softmax'))\n",
    "\n",
    "# Compilar el modelo\n",
    "model.compile(optimizer='adam', loss='categorical_crossentropy',\n",
    "              metrics=['accuracy'])\n",
    "\n",
    "# Entrenar el modelo\n",
    "history = model.fit(X_train, y_train, epochs=50, batch_size=128,\n",
    "                    validation_data=(X_test, y_test))\n",
    "\n",
    "# Evaluar el modelo en el conjunto de prueba\n",
    "loss, accuracy = model.evaluate(X_test, y_test)\n",
    "\n",
    "print(\"Loss:\", loss)\n",
    "print(\"Accuracy:\", accuracy)"
   ]
  },
  {
   "cell_type": "code",
   "execution_count": 23,
   "metadata": {},
   "outputs": [
    {
     "data": {
      "image/png": "[encoded data removed]",
      "text/plain": [
       "<Figure size 640x480 with 1 Axes>"
      ]
     },
     "metadata": {},
     "output_type": "display_data"
    }
   ],
   "source": [
    "# Make a plot for the loss\n",
    "pd.DataFrame(history.history)[['loss', 'val_loss']].plot()\n",
    "plt.title(\"Loss\")\n",
    "plt.show()\n"
   ]
  },
  {
   "cell_type": "code",
   "execution_count": 24,
   "metadata": {},
   "outputs": [
    {
     "data": {
      "image/png": "[encoded data removed]",
      "text/plain": [
       "<Figure size 640x480 with 1 Axes>"
      ]
     },
     "metadata": {},
     "output_type": "display_data"
    }
   ],
   "source": [
    "# Make a plot for the accuracy\n",
    "pd.DataFrame(history.history)[['accuracy', 'val_accuracy']].plot()\n",
    "plt.title(\"Accuracy\")\n",
    "plt.show()\n"
   ]
  },
  {
   "attachments": {},
   "cell_type": "markdown",
   "metadata": {},
   "source": [
    "Ahora vamos a realizar una predicción y la vamos a decodificar"
   ]
  },
  {
   "cell_type": "code",
   "execution_count": 25,
   "metadata": {},
   "outputs": [
    {
     "name": "stdout",
     "output_type": "stream",
     "text": [
      "35/35 [==============================] - 0s 2ms/step\n"
     ]
    }
   ],
   "source": [
    "y_pred = model.predict(X_test)\n",
    "y_test = le.inverse_transform(np.argmax(y_test, axis=1))\n",
    "y_pred= le.inverse_transform(np.argmax(y_pred, axis=1))"
   ]
  },
  {
   "attachments": {},
   "cell_type": "markdown",
   "metadata": {},
   "source": [
    "Mostramos la matriz de confusión"
   ]
  },
  {
   "cell_type": "code",
   "execution_count": 26,
   "metadata": {},
   "outputs": [
    {
     "data": {
      "image/png": "[encoded data removed]",
      "text/plain": [
       "<Figure size 640x480 with 1 Axes>"
      ]
     },
     "metadata": {},
     "output_type": "display_data"
    }
   ],
   "source": [
    "plot_confusion_matrix(y_test, y_pred,\n",
    "                      classes=unique_labels(y_test, y_pred))\n"
   ]
  },
  {
   "attachments": {},
   "cell_type": "markdown",
   "metadata": {},
   "source": [
    "# **2. Enfoque 2 - Imagenes de espectogramas**"
   ]
  },
  {
   "attachments": {},
   "cell_type": "markdown",
   "metadata": {},
   "source": [
    "Lo primero que vamos a hacer es obtener todas las imágenes "
   ]
  },
  {
   "cell_type": "code",
   "execution_count": null,
   "metadata": {},
   "outputs": [],
   "source": [
    "from keras.preprocessing.image import ImageDataGenerator"
   ]
  },
  {
   "cell_type": "code",
   "execution_count": null,
   "metadata": {},
   "outputs": [],
   "source": [
    "TARGET_SIZE = (400, 400)\n",
    "SEED = 42\n"
   ]
  },
  {
   "cell_type": "code",
   "execution_count": null,
   "metadata": {},
   "outputs": [
    {
     "name": "stdout",
     "output_type": "stream",
     "text": [
      "Found 4370 images belonging to 5 classes.\n",
      "Found 1089 images belonging to 5 classes.\n"
     ]
    }
   ],
   "source": [
    "train_generator = ImageDataGenerator(\n",
    "    rescale=1/255.,\n",
    "    shear_range=0.2,\n",
    "    zoom_range=0.2,\n",
    "    horizontal_flip=True,\n",
    "    validation_split=0.2)\n",
    "\n",
    "train_batches = train_generator.flow_from_directory(\n",
    "    directory=\"./Datos/enfoque2\",\n",
    "    target_size=TARGET_SIZE,\n",
    "    color_mode='rgb',\n",
    "    class_mode='categorical',\n",
    "    batch_size=32,\n",
    "    seed=SEED,\n",
    "    subset='training')\n",
    "\n",
    "valid_batches = train_generator.flow_from_directory(\n",
    "    directory=\"./Datos/enfoque2\",\n",
    "    target_size=TARGET_SIZE,\n",
    "    color_mode='rgb',\n",
    "    class_mode='categorical',\n",
    "    batch_size=32,\n",
    "    seed=SEED,\n",
    "    subset='validation')\n"
   ]
  },
  {
   "attachments": {},
   "cell_type": "markdown",
   "metadata": {},
   "source": [
    "Luego vamos a crear nuestro modelo y vamos a ponerlo a entrenar "
   ]
  },
  {
   "cell_type": "code",
   "execution_count": null,
   "metadata": {},
   "outputs": [],
   "source": [
    "import tensorflow as tf\n",
    "from keras.models import Sequential\n",
    "from keras.layers import Conv2D, MaxPooling2D, Dropout, Flatten, Dense, TimeDistributed, LSTM\n"
   ]
  },
  {
   "cell_type": "code",
   "execution_count": null,
   "metadata": {},
   "outputs": [
    {
     "name": "stdout",
     "output_type": "stream",
     "text": [
      "Model: \"sequential_5\"\n",
      "_________________________________________________________________\n",
      " Layer (type)                Output Shape              Param #   \n",
      "=================================================================\n",
      " conv2d_7 (Conv2D)           (None, 398, 398, 64)      1792      \n",
      "                                                                 \n",
      " max_pooling2d_7 (MaxPooling  (None, 132, 132, 64)     0         \n",
      " 2D)                                                             \n",
      "                                                                 \n",
      " dropout_10 (Dropout)        (None, 132, 132, 64)      0         \n",
      "                                                                 \n",
      " conv2d_8 (Conv2D)           (None, 130, 130, 32)      18464     \n",
      "                                                                 \n",
      " max_pooling2d_8 (MaxPooling  (None, 43, 43, 32)       0         \n",
      " 2D)                                                             \n",
      "                                                                 \n",
      " dropout_11 (Dropout)        (None, 43, 43, 32)        0         \n",
      "                                                                 \n",
      " time_distributed_6 (TimeDis  (None, 43, 1376)         0         \n",
      " tributed)                                                       \n",
      "                                                                 \n",
      " time_distributed_7 (TimeDis  (None, 43, 128)          176256    \n",
      " tributed)                                                       \n",
      "                                                                 \n",
      " lstm_5 (LSTM)               (None, 64)                49408     \n",
      "                                                                 \n",
      " dropout_12 (Dropout)        (None, 64)                0         \n",
      "                                                                 \n",
      " dense_15 (Dense)            (None, 5)                 325       \n",
      "                                                                 \n",
      "=================================================================\n",
      "Total params: 246,245\n",
      "Trainable params: 246,245\n",
      "Non-trainable params: 0\n",
      "_________________________________________________________________\n"
     ]
    }
   ],
   "source": [
    "model = Sequential([\n",
    "    Conv2D(64, (3, 3), activation='relu', input_shape=(400, 400, 3)),\n",
    "    MaxPooling2D((3, 3)),\n",
    "    Dropout(0.3),\n",
    "    Conv2D(32, (3, 3), activation='relu'),\n",
    "    MaxPooling2D((3, 3)),\n",
    "    Dropout(0.3),\n",
    "    TimeDistributed(Flatten()),\n",
    "    TimeDistributed(Dense(128, activation='relu')),\n",
    "    LSTM(64),\n",
    "    Dropout(0.3),\n",
    "    Dense(5, activation='softmax')\n",
    "])\n",
    "\n",
    "model.summary()\n"
   ]
  },
  {
   "cell_type": "code",
   "execution_count": null,
   "metadata": {},
   "outputs": [],
   "source": [
    "model.compile(\n",
    "    optimizer='adam',\n",
    "    loss='categorical_crossentropy',\n",
    "    metrics=['accuracy']\n",
    ")\n"
   ]
  },
  {
   "cell_type": "code",
   "execution_count": null,
   "metadata": {},
   "outputs": [
    {
     "name": "stdout",
     "output_type": "stream",
     "text": [
      "Epoch 1/10\n",
      "137/137 [==============================] - 113s 820ms/step - loss: 1.0033 - accuracy: 0.4826 - val_loss: 0.9445 - val_accuracy: 0.5280\n",
      "Epoch 2/10\n",
      "137/137 [==============================] - 112s 816ms/step - loss: 0.9693 - accuracy: 0.5069 - val_loss: 0.9426 - val_accuracy: 0.5280\n",
      "Epoch 3/10\n",
      "137/137 [==============================] - 111s 812ms/step - loss: 0.9617 - accuracy: 0.5174 - val_loss: 0.9429 - val_accuracy: 0.5280\n",
      "Epoch 4/10\n",
      "137/137 [==============================] - 110s 805ms/step - loss: 0.9621 - accuracy: 0.5181 - val_loss: 0.9431 - val_accuracy: 0.5280\n",
      "Epoch 5/10\n",
      "137/137 [==============================] - 112s 820ms/step - loss: 0.9607 - accuracy: 0.5236 - val_loss: 0.9394 - val_accuracy: 0.5280\n",
      "Epoch 6/10\n",
      "137/137 [==============================] - 112s 816ms/step - loss: 0.9579 - accuracy: 0.5259 - val_loss: 0.9407 - val_accuracy: 0.5280\n",
      "Epoch 7/10\n",
      "137/137 [==============================] - 112s 816ms/step - loss: 0.9547 - accuracy: 0.5243 - val_loss: 0.9415 - val_accuracy: 0.5280\n",
      "Epoch 8/10\n",
      "137/137 [==============================] - 112s 815ms/step - loss: 0.9557 - accuracy: 0.5206 - val_loss: 0.9404 - val_accuracy: 0.5280\n",
      "Epoch 9/10\n",
      "137/137 [==============================] - 112s 819ms/step - loss: 0.9541 - accuracy: 0.5252 - val_loss: 0.9397 - val_accuracy: 0.5280\n",
      "Epoch 10/10\n",
      "137/137 [==============================] - 114s 831ms/step - loss: 0.9559 - accuracy: 0.5252 - val_loss: 0.9405 - val_accuracy: 0.5280\n"
     ]
    }
   ],
   "source": [
    "history = model.fit(\n",
    "    train_batches,\n",
    "    validation_data=valid_batches,\n",
    "    batch_size=32,\n",
    "    epochs=10\n",
    ")\n"
   ]
  },
  {
   "attachments": {},
   "cell_type": "markdown",
   "metadata": {},
   "source": [
    "y por ultimo vamos a evaluar el modelo con la matriz de confusión "
   ]
  },
  {
   "cell_type": "code",
   "execution_count": null,
   "metadata": {},
   "outputs": [
    {
     "name": "stdout",
     "output_type": "stream",
     "text": [
      "Found 5459 images belonging to 5 classes.\n"
     ]
    },
    {
     "data": {
      "image/png": "[encoded data removed]",
      "text/plain": [
       "<Figure size 640x480 with 1 Axes>"
      ]
     },
     "metadata": {},
     "output_type": "display_data"
    }
   ],
   "source": [
    "test_datagen = ImageDataGenerator(rescale=1/255.,\n",
    "                                  shear_range=0.2,\n",
    "                                  zoom_range=0.2,\n",
    "                                  horizontal_flip=True)\n",
    "\n",
    "test_generator = test_datagen.flow_from_directory(\n",
    "    directory=\"./Datos/enfoque2\",\n",
    "    target_size=TARGET_SIZE,\n",
    "    color_mode=\"rgb\",\n",
    "    shuffle=False,\n",
    "    class_mode='categorical',\n",
    "    batch_size=1)\n",
    "\n",
    "filenames = test_generator.filenames\n",
    "nb_samples = len(filenames)\n",
    "\n",
    "predict = model.predict_generator(test_generator, steps=nb_samples)\n",
    "\n",
    "true_labels = test_generator.labels\n",
    "predicted_labels = np.argmax(predict, axis=1)\n",
    "\n",
    "plot_confusion_matrix(true_labels, predicted_labels,\n",
    "                      classes=unique_labels(true_labels, predicted_labels))\n"
   ]
  },
  {
   "cell_type": "code",
   "execution_count": null,
   "metadata": {},
   "outputs": [
    {
     "data": {
      "image/png": "[encoded data removed]",
      "text/plain": [
       "<Figure size 640x480 with 1 Axes>"
      ]
     },
     "metadata": {},
     "output_type": "display_data"
    }
   ],
   "source": [
    "# Make a plot for the loss\n",
    "pd.DataFrame(history.history)[['loss', 'val_loss']].plot()\n",
    "plt.title(\"Loss\")\n",
    "plt.show()\n"
   ]
  },
  {
   "cell_type": "code",
   "execution_count": null,
   "metadata": {},
   "outputs": [
    {
     "data": {
      "image/png": "[encoded data removed]",
      "text/plain": [
       "<Figure size 640x480 with 1 Axes>"
      ]
     },
     "metadata": {},
     "output_type": "display_data"
    }
   ],
   "source": [
    "# Make a plot for the accuracy\n",
    "pd.DataFrame(history.history)[['accuracy', 'val_accuracy']].plot()\n",
    "plt.title(\"Accuracy\")\n",
    "plt.show()\n"
   ]
  }
 ],
 "metadata": {
  "kernelspec": {
   "display_name": "base",
   "language": "python",
   "name": "python3"
  },
  "language_info": {
   "codemirror_mode": {
    "name": "ipython",
    "version": 3
   },
   "file_extension": ".py",
   "mimetype": "text/x-python",
   "name": "python",
   "nbconvert_exporter": "python",
   "pygments_lexer": "ipython3",
   "version": "3.10.10"
  },
  "orig_nbformat": 4
 },
 "nbformat": 4,
 "nbformat_minor": 2
}
