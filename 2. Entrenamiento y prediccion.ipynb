{
 "cells": [
  {
   "attachments": {},
   "cell_type": "markdown",
   "metadata": {},
   "source": [
    "# **Entrenamiento y predicción**"
   ]
  },
  {
   "attachments": {},
   "cell_type": "markdown",
   "metadata": {},
   "source": [
    "## **Métodos necesarios**"
   ]
  },
  {
   "attachments": {},
   "cell_type": "markdown",
   "metadata": {},
   "source": [
    "### **Matriz de confusión**"
   ]
  },
  {
   "cell_type": "code",
   "execution_count": 1,
   "metadata": {},
   "outputs": [],
   "source": [
    "from sklearn.metrics import confusion_matrix\n",
    "from sklearn.utils.multiclass import unique_labels\n",
    "import numpy as np\n",
    "import itertools\n",
    "import matplotlib.pyplot as plt\n",
    "\n",
    "\n",
    "def plot_confusion_matrix(y_true, y_pred, classes, normalize=False, title='Matriz de Confusión', cmap=plt.cm.Blues):\n",
    "    \"\"\"\n",
    "    Esta función muestra una matriz de confusión en forma gráfica.\n",
    "    \"\"\"\n",
    "    # Crear matriz de confusión\n",
    "    cm = confusion_matrix(y_true, y_pred)\n",
    "\n",
    "    # Normalizar los valores si es necesario\n",
    "    if normalize:\n",
    "        cm = cm.astype('float') / cm.sum(axis=1)[:, np.newaxis]\n",
    "\n",
    "    # Configurar el gráfico\n",
    "    plt.imshow(cm, interpolation='nearest', cmap=cmap)\n",
    "    plt.title(title)\n",
    "    tick_marks = np.arange(len(classes))\n",
    "    plt.xticks(tick_marks, classes, rotation=45)\n",
    "    plt.yticks(tick_marks, classes)\n",
    "\n",
    "    # Etiquetar los ejes\n",
    "    fmt = '.2f' if normalize else 'd'\n",
    "    thresh = cm.max() / 2.\n",
    "    for i, j in itertools.product(range(cm.shape[0]), range(cm.shape[1])):\n",
    "        plt.text(j, i, format(cm[i, j], fmt),\n",
    "                 horizontalalignment=\"center\",\n",
    "                 color=\"white\" if cm[i, j] > thresh else \"black\")\n",
    "\n",
    "    plt.ylabel('Etiqueta Real')\n",
    "    plt.xlabel('Etiqueta Predicha')\n",
    "    plt.tight_layout()\n",
    "    plt.show()\n"
   ]
  },
  {
   "attachments": {},
   "cell_type": "markdown",
   "metadata": {},
   "source": [
    "# **1. Enfoque 1 - Frecuencia Mel**"
   ]
  },
  {
   "attachments": {},
   "cell_type": "markdown",
   "metadata": {},
   "source": [
    "### Empezamos importando los datos"
   ]
  },
  {
   "cell_type": "code",
   "execution_count": 2,
   "metadata": {},
   "outputs": [
    {
     "data": {
      "text/html": [
       "<div>\n",
       "<style scoped>\n",
       "    .dataframe tbody tr th:only-of-type {\n",
       "        vertical-align: middle;\n",
       "    }\n",
       "\n",
       "    .dataframe tbody tr th {\n",
       "        vertical-align: top;\n",
       "    }\n",
       "\n",
       "    .dataframe thead th {\n",
       "        text-align: right;\n",
       "    }\n",
       "</style>\n",
       "<table border=\"1\" class=\"dataframe\">\n",
       "  <thead>\n",
       "    <tr style=\"text-align: right;\">\n",
       "      <th></th>\n",
       "      <th>feature</th>\n",
       "      <th>label</th>\n",
       "    </tr>\n",
       "  </thead>\n",
       "  <tbody>\n",
       "    <tr>\n",
       "      <th>0</th>\n",
       "      <td>[-655.03894     63.1695      10.757038    21.1...</td>\n",
       "      <td>whistle</td>\n",
       "    </tr>\n",
       "    <tr>\n",
       "      <th>1</th>\n",
       "      <td>[-578.7469      81.91728    -10.924023    11.2...</td>\n",
       "      <td>whistle</td>\n",
       "    </tr>\n",
       "    <tr>\n",
       "      <th>2</th>\n",
       "      <td>[-567.00964    82.101105  -14.731988   12.7339...</td>\n",
       "      <td>whistle</td>\n",
       "    </tr>\n",
       "    <tr>\n",
       "      <th>3</th>\n",
       "      <td>[-576.83685     77.57335    -15.542832    14.3...</td>\n",
       "      <td>whistle</td>\n",
       "    </tr>\n",
       "    <tr>\n",
       "      <th>4</th>\n",
       "      <td>[-557.8747      78.30917    -13.749625    16.7...</td>\n",
       "      <td>whistle</td>\n",
       "    </tr>\n",
       "    <tr>\n",
       "      <th>...</th>\n",
       "      <td>...</td>\n",
       "      <td>...</td>\n",
       "    </tr>\n",
       "    <tr>\n",
       "      <th>5454</th>\n",
       "      <td>[-562.69415     70.66823     -6.884647    23.8...</td>\n",
       "      <td>allfreq</td>\n",
       "    </tr>\n",
       "    <tr>\n",
       "      <th>5455</th>\n",
       "      <td>[-546.1909      69.080666   -14.523592    22.1...</td>\n",
       "      <td>allfreq</td>\n",
       "    </tr>\n",
       "    <tr>\n",
       "      <th>5456</th>\n",
       "      <td>[-586.30975     74.10078     -6.768806    26.6...</td>\n",
       "      <td>allfreq</td>\n",
       "    </tr>\n",
       "    <tr>\n",
       "      <th>5457</th>\n",
       "      <td>[-585.0476      75.75177     -2.8806534   26.3...</td>\n",
       "      <td>allfreq</td>\n",
       "    </tr>\n",
       "    <tr>\n",
       "      <th>5458</th>\n",
       "      <td>[-565.68317     85.92473     -8.174224    20.7...</td>\n",
       "      <td>allfreq</td>\n",
       "    </tr>\n",
       "  </tbody>\n",
       "</table>\n",
       "<p>5459 rows × 2 columns</p>\n",
       "</div>"
      ],
      "text/plain": [
       "                                                feature    label\n",
       "0     [-655.03894     63.1695      10.757038    21.1...  whistle\n",
       "1     [-578.7469      81.91728    -10.924023    11.2...  whistle\n",
       "2     [-567.00964    82.101105  -14.731988   12.7339...  whistle\n",
       "3     [-576.83685     77.57335    -15.542832    14.3...  whistle\n",
       "4     [-557.8747      78.30917    -13.749625    16.7...  whistle\n",
       "...                                                 ...      ...\n",
       "5454  [-562.69415     70.66823     -6.884647    23.8...  allfreq\n",
       "5455  [-546.1909      69.080666   -14.523592    22.1...  allfreq\n",
       "5456  [-586.30975     74.10078     -6.768806    26.6...  allfreq\n",
       "5457  [-585.0476      75.75177     -2.8806534   26.3...  allfreq\n",
       "5458  [-565.68317     85.92473     -8.174224    20.7...  allfreq\n",
       "\n",
       "[5459 rows x 2 columns]"
      ]
     },
     "execution_count": 2,
     "metadata": {},
     "output_type": "execute_result"
    }
   ],
   "source": [
    "import pandas as pd\n",
    "\n",
    "# Obtenemos el dataset desde el archivo creado en el anterior notebook\n",
    "df = pd.read_csv('./Datos/enfoque1/dataframe.csv')\n",
    "df"
   ]
  },
  {
   "attachments": {},
   "cell_type": "markdown",
   "metadata": {},
   "source": [
    "Como podemos observar al cargar el dataset tenemos la parte de las `feature` en una string eso es un problema asique vamos a transformar de string a un array "
   ]
  },
  {
   "cell_type": "code",
   "execution_count": 3,
   "metadata": {},
   "outputs": [
    {
     "name": "stdout",
     "output_type": "stream",
     "text": [
      "<class 'str'>\n",
      "<class 'numpy.ndarray'>\n"
     ]
    }
   ],
   "source": [
    "import numpy as np\n",
    "\n",
    "# Imprimir el tipo de datos del primer elemento de la columna 'feature'\n",
    "print(type(df['feature'][0]))\n",
    "\n",
    "def convert_to_array(str_val):\n",
    "    # Reemplazar los caracteres '\\n' por una cadena vacía '' y los espacios duplicados '  ' por un solo espacio ' '\n",
    "    str_val = str_val.replace('\\n', '').replace('  ', ' ')\n",
    "    # Eliminar los corchetes '[' y ']' alrededor de la cadena\n",
    "    str_val = str_val.strip('[]')\n",
    "    # Dividir la cadena en una lista de cadenas utilizando el espacio como separador\n",
    "    features_list = str_val.split()\n",
    "    # Convertir cada cadena en un número de punto flotante y agregarlos a la lista 'features'\n",
    "    features = [float(value) for value in features_list]\n",
    "    # Retornar una matriz NumPy creada a partir de la lista 'features'\n",
    "    return np.array(features)\n",
    "\n",
    "# Aplicar la función 'convert_to_array' a cada elemento de la columna 'feature'\n",
    "df['feature'] = df['feature'].apply(convert_to_array)\n",
    "\n",
    "# Imprimir el tipo de datos del primer elemento de la columna 'feature' después de la conversión\n",
    "print(type(df['feature'][0]))"
   ]
  },
  {
   "attachments": {},
   "cell_type": "markdown",
   "metadata": {},
   "source": [
    "Ahora vamos a crear nuestra `X` y nuestra `y` \n",
    "\n",
    "**`X` :**\n",
    "\n",
    "Sera un dataframe de 20 columnas siendo cada columna un número de la frecuencia mel\n",
    "\n",
    "**`y` :**\n",
    "\n",
    "Sera un df de 1 columna compuesto de las clases a las que pertenece cada audio\n"
   ]
  },
  {
   "cell_type": "code",
   "execution_count": 4,
   "metadata": {},
   "outputs": [],
   "source": [
    "features = df['feature'].to_list()\n",
    "X = pd.DataFrame(columns=range(len(features[0])), data=features)\n",
    "y = df.drop(columns='feature')"
   ]
  },
  {
   "cell_type": "code",
   "execution_count": 5,
   "metadata": {},
   "outputs": [
    {
     "data": {
      "text/html": [
       "<div>\n",
       "<style scoped>\n",
       "    .dataframe tbody tr th:only-of-type {\n",
       "        vertical-align: middle;\n",
       "    }\n",
       "\n",
       "    .dataframe tbody tr th {\n",
       "        vertical-align: top;\n",
       "    }\n",
       "\n",
       "    .dataframe thead th {\n",
       "        text-align: right;\n",
       "    }\n",
       "</style>\n",
       "<table border=\"1\" class=\"dataframe\">\n",
       "  <thead>\n",
       "    <tr style=\"text-align: right;\">\n",
       "      <th></th>\n",
       "      <th>0</th>\n",
       "      <th>1</th>\n",
       "      <th>2</th>\n",
       "      <th>3</th>\n",
       "      <th>4</th>\n",
       "      <th>5</th>\n",
       "      <th>6</th>\n",
       "      <th>7</th>\n",
       "      <th>8</th>\n",
       "      <th>9</th>\n",
       "      <th>10</th>\n",
       "      <th>11</th>\n",
       "      <th>12</th>\n",
       "      <th>13</th>\n",
       "      <th>14</th>\n",
       "      <th>15</th>\n",
       "      <th>16</th>\n",
       "      <th>17</th>\n",
       "      <th>18</th>\n",
       "      <th>19</th>\n",
       "    </tr>\n",
       "  </thead>\n",
       "  <tbody>\n",
       "    <tr>\n",
       "      <th>0</th>\n",
       "      <td>-655.03894</td>\n",
       "      <td>63.169500</td>\n",
       "      <td>10.757038</td>\n",
       "      <td>21.136215</td>\n",
       "      <td>4.484089</td>\n",
       "      <td>31.330320</td>\n",
       "      <td>3.066183</td>\n",
       "      <td>24.712875</td>\n",
       "      <td>-8.296095</td>\n",
       "      <td>24.142025</td>\n",
       "      <td>-8.248991</td>\n",
       "      <td>26.009697</td>\n",
       "      <td>-10.733233</td>\n",
       "      <td>20.804834</td>\n",
       "      <td>-10.760571</td>\n",
       "      <td>18.188063</td>\n",
       "      <td>-6.863329</td>\n",
       "      <td>14.063175</td>\n",
       "      <td>-4.090499</td>\n",
       "      <td>8.624461</td>\n",
       "    </tr>\n",
       "    <tr>\n",
       "      <th>1</th>\n",
       "      <td>-578.74690</td>\n",
       "      <td>81.917280</td>\n",
       "      <td>-10.924023</td>\n",
       "      <td>11.234460</td>\n",
       "      <td>-4.377991</td>\n",
       "      <td>20.155209</td>\n",
       "      <td>5.583762</td>\n",
       "      <td>24.466402</td>\n",
       "      <td>-9.740192</td>\n",
       "      <td>20.394806</td>\n",
       "      <td>-8.053699</td>\n",
       "      <td>22.449516</td>\n",
       "      <td>-6.228172</td>\n",
       "      <td>21.965550</td>\n",
       "      <td>-12.222945</td>\n",
       "      <td>17.091827</td>\n",
       "      <td>-6.970063</td>\n",
       "      <td>15.083657</td>\n",
       "      <td>-9.954753</td>\n",
       "      <td>11.730551</td>\n",
       "    </tr>\n",
       "    <tr>\n",
       "      <th>2</th>\n",
       "      <td>-567.00964</td>\n",
       "      <td>82.101105</td>\n",
       "      <td>-14.731988</td>\n",
       "      <td>12.733934</td>\n",
       "      <td>-8.998794</td>\n",
       "      <td>20.640368</td>\n",
       "      <td>9.156942</td>\n",
       "      <td>21.845205</td>\n",
       "      <td>-13.367733</td>\n",
       "      <td>22.585958</td>\n",
       "      <td>-6.374838</td>\n",
       "      <td>20.176239</td>\n",
       "      <td>-5.401113</td>\n",
       "      <td>21.010586</td>\n",
       "      <td>-6.475297</td>\n",
       "      <td>17.895168</td>\n",
       "      <td>-5.158005</td>\n",
       "      <td>12.614172</td>\n",
       "      <td>-3.478589</td>\n",
       "      <td>9.361365</td>\n",
       "    </tr>\n",
       "    <tr>\n",
       "      <th>3</th>\n",
       "      <td>-576.83685</td>\n",
       "      <td>77.573350</td>\n",
       "      <td>-15.542832</td>\n",
       "      <td>14.319379</td>\n",
       "      <td>-9.472738</td>\n",
       "      <td>22.840683</td>\n",
       "      <td>3.852125</td>\n",
       "      <td>23.177464</td>\n",
       "      <td>-13.300287</td>\n",
       "      <td>25.567421</td>\n",
       "      <td>-9.818583</td>\n",
       "      <td>22.131670</td>\n",
       "      <td>-5.557333</td>\n",
       "      <td>20.641937</td>\n",
       "      <td>-7.259668</td>\n",
       "      <td>17.392326</td>\n",
       "      <td>-7.789606</td>\n",
       "      <td>13.903425</td>\n",
       "      <td>-2.200932</td>\n",
       "      <td>9.534672</td>\n",
       "    </tr>\n",
       "    <tr>\n",
       "      <th>4</th>\n",
       "      <td>-557.87470</td>\n",
       "      <td>78.309170</td>\n",
       "      <td>-13.749625</td>\n",
       "      <td>16.721146</td>\n",
       "      <td>-4.221141</td>\n",
       "      <td>25.743467</td>\n",
       "      <td>4.223830</td>\n",
       "      <td>23.770823</td>\n",
       "      <td>-5.493849</td>\n",
       "      <td>21.148441</td>\n",
       "      <td>-13.086636</td>\n",
       "      <td>17.771463</td>\n",
       "      <td>-8.402151</td>\n",
       "      <td>17.739447</td>\n",
       "      <td>-10.582404</td>\n",
       "      <td>15.450899</td>\n",
       "      <td>-8.976308</td>\n",
       "      <td>14.232722</td>\n",
       "      <td>-4.587385</td>\n",
       "      <td>9.733555</td>\n",
       "    </tr>\n",
       "    <tr>\n",
       "      <th>...</th>\n",
       "      <td>...</td>\n",
       "      <td>...</td>\n",
       "      <td>...</td>\n",
       "      <td>...</td>\n",
       "      <td>...</td>\n",
       "      <td>...</td>\n",
       "      <td>...</td>\n",
       "      <td>...</td>\n",
       "      <td>...</td>\n",
       "      <td>...</td>\n",
       "      <td>...</td>\n",
       "      <td>...</td>\n",
       "      <td>...</td>\n",
       "      <td>...</td>\n",
       "      <td>...</td>\n",
       "      <td>...</td>\n",
       "      <td>...</td>\n",
       "      <td>...</td>\n",
       "      <td>...</td>\n",
       "      <td>...</td>\n",
       "    </tr>\n",
       "    <tr>\n",
       "      <th>5454</th>\n",
       "      <td>-562.69415</td>\n",
       "      <td>70.668230</td>\n",
       "      <td>-6.884647</td>\n",
       "      <td>23.808416</td>\n",
       "      <td>-1.290732</td>\n",
       "      <td>26.164165</td>\n",
       "      <td>1.366706</td>\n",
       "      <td>22.283495</td>\n",
       "      <td>-10.204620</td>\n",
       "      <td>18.495432</td>\n",
       "      <td>-8.033647</td>\n",
       "      <td>24.025715</td>\n",
       "      <td>-4.661413</td>\n",
       "      <td>20.114210</td>\n",
       "      <td>-6.924646</td>\n",
       "      <td>16.165075</td>\n",
       "      <td>-5.864742</td>\n",
       "      <td>14.081470</td>\n",
       "      <td>-3.513756</td>\n",
       "      <td>10.816447</td>\n",
       "    </tr>\n",
       "    <tr>\n",
       "      <th>5455</th>\n",
       "      <td>-546.19090</td>\n",
       "      <td>69.080666</td>\n",
       "      <td>-14.523592</td>\n",
       "      <td>22.163635</td>\n",
       "      <td>-4.684685</td>\n",
       "      <td>23.391790</td>\n",
       "      <td>-1.798233</td>\n",
       "      <td>20.151752</td>\n",
       "      <td>-8.400525</td>\n",
       "      <td>17.420397</td>\n",
       "      <td>-7.451912</td>\n",
       "      <td>20.247835</td>\n",
       "      <td>-4.005499</td>\n",
       "      <td>17.937338</td>\n",
       "      <td>-4.813669</td>\n",
       "      <td>13.338392</td>\n",
       "      <td>-3.977106</td>\n",
       "      <td>11.021453</td>\n",
       "      <td>-1.196533</td>\n",
       "      <td>8.189395</td>\n",
       "    </tr>\n",
       "    <tr>\n",
       "      <th>5456</th>\n",
       "      <td>-586.30975</td>\n",
       "      <td>74.100780</td>\n",
       "      <td>-6.768806</td>\n",
       "      <td>26.699821</td>\n",
       "      <td>1.114983</td>\n",
       "      <td>26.583038</td>\n",
       "      <td>1.371233</td>\n",
       "      <td>26.010954</td>\n",
       "      <td>-7.421478</td>\n",
       "      <td>21.659900</td>\n",
       "      <td>-6.534761</td>\n",
       "      <td>23.863783</td>\n",
       "      <td>-6.375581</td>\n",
       "      <td>19.512798</td>\n",
       "      <td>-6.906247</td>\n",
       "      <td>16.490310</td>\n",
       "      <td>-4.215941</td>\n",
       "      <td>13.495682</td>\n",
       "      <td>-1.765210</td>\n",
       "      <td>8.991456</td>\n",
       "    </tr>\n",
       "    <tr>\n",
       "      <th>5457</th>\n",
       "      <td>-585.04760</td>\n",
       "      <td>75.751770</td>\n",
       "      <td>-2.880653</td>\n",
       "      <td>26.330290</td>\n",
       "      <td>3.998790</td>\n",
       "      <td>28.459420</td>\n",
       "      <td>2.180055</td>\n",
       "      <td>23.271072</td>\n",
       "      <td>-5.082721</td>\n",
       "      <td>22.738983</td>\n",
       "      <td>-7.349165</td>\n",
       "      <td>22.668991</td>\n",
       "      <td>-4.029947</td>\n",
       "      <td>19.612257</td>\n",
       "      <td>-5.611763</td>\n",
       "      <td>15.260265</td>\n",
       "      <td>-4.970442</td>\n",
       "      <td>13.279258</td>\n",
       "      <td>-1.227788</td>\n",
       "      <td>10.630218</td>\n",
       "    </tr>\n",
       "    <tr>\n",
       "      <th>5458</th>\n",
       "      <td>-565.68317</td>\n",
       "      <td>85.924730</td>\n",
       "      <td>-8.174224</td>\n",
       "      <td>20.762474</td>\n",
       "      <td>-2.105165</td>\n",
       "      <td>24.697674</td>\n",
       "      <td>-2.831236</td>\n",
       "      <td>22.305454</td>\n",
       "      <td>-6.004370</td>\n",
       "      <td>20.521950</td>\n",
       "      <td>-13.760574</td>\n",
       "      <td>17.605580</td>\n",
       "      <td>-5.642008</td>\n",
       "      <td>24.130165</td>\n",
       "      <td>-3.326583</td>\n",
       "      <td>16.313229</td>\n",
       "      <td>-7.209080</td>\n",
       "      <td>10.370816</td>\n",
       "      <td>-4.510864</td>\n",
       "      <td>7.938403</td>\n",
       "    </tr>\n",
       "  </tbody>\n",
       "</table>\n",
       "<p>5459 rows × 20 columns</p>\n",
       "</div>"
      ],
      "text/plain": [
       "             0          1          2          3         4          5    \n",
       "0    -655.03894  63.169500  10.757038  21.136215  4.484089  31.330320  \\\n",
       "1    -578.74690  81.917280 -10.924023  11.234460 -4.377991  20.155209   \n",
       "2    -567.00964  82.101105 -14.731988  12.733934 -8.998794  20.640368   \n",
       "3    -576.83685  77.573350 -15.542832  14.319379 -9.472738  22.840683   \n",
       "4    -557.87470  78.309170 -13.749625  16.721146 -4.221141  25.743467   \n",
       "...         ...        ...        ...        ...       ...        ...   \n",
       "5454 -562.69415  70.668230  -6.884647  23.808416 -1.290732  26.164165   \n",
       "5455 -546.19090  69.080666 -14.523592  22.163635 -4.684685  23.391790   \n",
       "5456 -586.30975  74.100780  -6.768806  26.699821  1.114983  26.583038   \n",
       "5457 -585.04760  75.751770  -2.880653  26.330290  3.998790  28.459420   \n",
       "5458 -565.68317  85.924730  -8.174224  20.762474 -2.105165  24.697674   \n",
       "\n",
       "            6          7          8          9          10         11   \n",
       "0     3.066183  24.712875  -8.296095  24.142025  -8.248991  26.009697  \\\n",
       "1     5.583762  24.466402  -9.740192  20.394806  -8.053699  22.449516   \n",
       "2     9.156942  21.845205 -13.367733  22.585958  -6.374838  20.176239   \n",
       "3     3.852125  23.177464 -13.300287  25.567421  -9.818583  22.131670   \n",
       "4     4.223830  23.770823  -5.493849  21.148441 -13.086636  17.771463   \n",
       "...        ...        ...        ...        ...        ...        ...   \n",
       "5454  1.366706  22.283495 -10.204620  18.495432  -8.033647  24.025715   \n",
       "5455 -1.798233  20.151752  -8.400525  17.420397  -7.451912  20.247835   \n",
       "5456  1.371233  26.010954  -7.421478  21.659900  -6.534761  23.863783   \n",
       "5457  2.180055  23.271072  -5.082721  22.738983  -7.349165  22.668991   \n",
       "5458 -2.831236  22.305454  -6.004370  20.521950 -13.760574  17.605580   \n",
       "\n",
       "             12         13         14         15        16         17   \n",
       "0    -10.733233  20.804834 -10.760571  18.188063 -6.863329  14.063175  \\\n",
       "1     -6.228172  21.965550 -12.222945  17.091827 -6.970063  15.083657   \n",
       "2     -5.401113  21.010586  -6.475297  17.895168 -5.158005  12.614172   \n",
       "3     -5.557333  20.641937  -7.259668  17.392326 -7.789606  13.903425   \n",
       "4     -8.402151  17.739447 -10.582404  15.450899 -8.976308  14.232722   \n",
       "...         ...        ...        ...        ...       ...        ...   \n",
       "5454  -4.661413  20.114210  -6.924646  16.165075 -5.864742  14.081470   \n",
       "5455  -4.005499  17.937338  -4.813669  13.338392 -3.977106  11.021453   \n",
       "5456  -6.375581  19.512798  -6.906247  16.490310 -4.215941  13.495682   \n",
       "5457  -4.029947  19.612257  -5.611763  15.260265 -4.970442  13.279258   \n",
       "5458  -5.642008  24.130165  -3.326583  16.313229 -7.209080  10.370816   \n",
       "\n",
       "            18         19  \n",
       "0    -4.090499   8.624461  \n",
       "1    -9.954753  11.730551  \n",
       "2    -3.478589   9.361365  \n",
       "3    -2.200932   9.534672  \n",
       "4    -4.587385   9.733555  \n",
       "...        ...        ...  \n",
       "5454 -3.513756  10.816447  \n",
       "5455 -1.196533   8.189395  \n",
       "5456 -1.765210   8.991456  \n",
       "5457 -1.227788  10.630218  \n",
       "5458 -4.510864   7.938403  \n",
       "\n",
       "[5459 rows x 20 columns]"
      ]
     },
     "execution_count": 5,
     "metadata": {},
     "output_type": "execute_result"
    }
   ],
   "source": [
    "X"
   ]
  },
  {
   "cell_type": "code",
   "execution_count": 6,
   "metadata": {},
   "outputs": [
    {
     "data": {
      "text/html": [
       "<div>\n",
       "<style scoped>\n",
       "    .dataframe tbody tr th:only-of-type {\n",
       "        vertical-align: middle;\n",
       "    }\n",
       "\n",
       "    .dataframe tbody tr th {\n",
       "        vertical-align: top;\n",
       "    }\n",
       "\n",
       "    .dataframe thead th {\n",
       "        text-align: right;\n",
       "    }\n",
       "</style>\n",
       "<table border=\"1\" class=\"dataframe\">\n",
       "  <thead>\n",
       "    <tr style=\"text-align: right;\">\n",
       "      <th></th>\n",
       "      <th>label</th>\n",
       "    </tr>\n",
       "  </thead>\n",
       "  <tbody>\n",
       "    <tr>\n",
       "      <th>0</th>\n",
       "      <td>whistle</td>\n",
       "    </tr>\n",
       "    <tr>\n",
       "      <th>1</th>\n",
       "      <td>whistle</td>\n",
       "    </tr>\n",
       "    <tr>\n",
       "      <th>2</th>\n",
       "      <td>whistle</td>\n",
       "    </tr>\n",
       "    <tr>\n",
       "      <th>3</th>\n",
       "      <td>whistle</td>\n",
       "    </tr>\n",
       "    <tr>\n",
       "      <th>4</th>\n",
       "      <td>whistle</td>\n",
       "    </tr>\n",
       "    <tr>\n",
       "      <th>...</th>\n",
       "      <td>...</td>\n",
       "    </tr>\n",
       "    <tr>\n",
       "      <th>5454</th>\n",
       "      <td>allfreq</td>\n",
       "    </tr>\n",
       "    <tr>\n",
       "      <th>5455</th>\n",
       "      <td>allfreq</td>\n",
       "    </tr>\n",
       "    <tr>\n",
       "      <th>5456</th>\n",
       "      <td>allfreq</td>\n",
       "    </tr>\n",
       "    <tr>\n",
       "      <th>5457</th>\n",
       "      <td>allfreq</td>\n",
       "    </tr>\n",
       "    <tr>\n",
       "      <th>5458</th>\n",
       "      <td>allfreq</td>\n",
       "    </tr>\n",
       "  </tbody>\n",
       "</table>\n",
       "<p>5459 rows × 1 columns</p>\n",
       "</div>"
      ],
      "text/plain": [
       "        label\n",
       "0     whistle\n",
       "1     whistle\n",
       "2     whistle\n",
       "3     whistle\n",
       "4     whistle\n",
       "...       ...\n",
       "5454  allfreq\n",
       "5455  allfreq\n",
       "5456  allfreq\n",
       "5457  allfreq\n",
       "5458  allfreq\n",
       "\n",
       "[5459 rows x 1 columns]"
      ]
     },
     "execution_count": 6,
     "metadata": {},
     "output_type": "execute_result"
    }
   ],
   "source": [
    "y"
   ]
  },
  {
   "attachments": {},
   "cell_type": "markdown",
   "metadata": {},
   "source": [
    "### Dividendo el data set"
   ]
  },
  {
   "cell_type": "code",
   "execution_count": 7,
   "metadata": {},
   "outputs": [],
   "source": [
    "from sklearn.model_selection import train_test_split\n",
    "\n",
    "# Dividir el tercio aleatorio en un 20% para el conjunto de prueba y un 80% para el conjunto de entrenamiento\n",
    "X_train, X_test, y_train, y_test = train_test_split(\n",
    "    X, y, test_size=0.2, random_state=42)\n"
   ]
  },
  {
   "attachments": {},
   "cell_type": "markdown",
   "metadata": {},
   "source": [
    "### Eligiendo los modelos"
   ]
  },
  {
   "attachments": {},
   "cell_type": "markdown",
   "metadata": {},
   "source": [
    "Voy a utilizar una librería llamada lazypredict para obtener una simulación de los varios modelos me quedare con los 2 mejores para hacer mis entrenamientos"
   ]
  },
  {
   "cell_type": "code",
   "execution_count": 8,
   "metadata": {},
   "outputs": [
    {
     "name": "stderr",
     "output_type": "stream",
     "text": [
      "100%|██████████| 29/29 [00:09<00:00,  2.94it/s]\n"
     ]
    },
    {
     "data": {
      "text/html": [
       "<div>\n",
       "<style scoped>\n",
       "    .dataframe tbody tr th:only-of-type {\n",
       "        vertical-align: middle;\n",
       "    }\n",
       "\n",
       "    .dataframe tbody tr th {\n",
       "        vertical-align: top;\n",
       "    }\n",
       "\n",
       "    .dataframe thead th {\n",
       "        text-align: right;\n",
       "    }\n",
       "</style>\n",
       "<table border=\"1\" class=\"dataframe\">\n",
       "  <thead>\n",
       "    <tr style=\"text-align: right;\">\n",
       "      <th></th>\n",
       "      <th>Accuracy</th>\n",
       "      <th>Balanced Accuracy</th>\n",
       "      <th>ROC AUC</th>\n",
       "      <th>F1 Score</th>\n",
       "      <th>Time Taken</th>\n",
       "    </tr>\n",
       "    <tr>\n",
       "      <th>Model</th>\n",
       "      <th></th>\n",
       "      <th></th>\n",
       "      <th></th>\n",
       "      <th></th>\n",
       "      <th></th>\n",
       "    </tr>\n",
       "  </thead>\n",
       "  <tbody>\n",
       "    <tr>\n",
       "      <th>RandomForestClassifier</th>\n",
       "      <td>0.71</td>\n",
       "      <td>0.40</td>\n",
       "      <td>None</td>\n",
       "      <td>0.69</td>\n",
       "      <td>1.60</td>\n",
       "    </tr>\n",
       "    <tr>\n",
       "      <th>SVC</th>\n",
       "      <td>0.71</td>\n",
       "      <td>0.40</td>\n",
       "      <td>None</td>\n",
       "      <td>0.69</td>\n",
       "      <td>0.78</td>\n",
       "    </tr>\n",
       "    <tr>\n",
       "      <th>ExtraTreesClassifier</th>\n",
       "      <td>0.70</td>\n",
       "      <td>0.39</td>\n",
       "      <td>None</td>\n",
       "      <td>0.68</td>\n",
       "      <td>0.47</td>\n",
       "    </tr>\n",
       "    <tr>\n",
       "      <th>LGBMClassifier</th>\n",
       "      <td>0.70</td>\n",
       "      <td>0.40</td>\n",
       "      <td>None</td>\n",
       "      <td>0.68</td>\n",
       "      <td>0.31</td>\n",
       "    </tr>\n",
       "    <tr>\n",
       "      <th>BaggingClassifier</th>\n",
       "      <td>0.69</td>\n",
       "      <td>0.40</td>\n",
       "      <td>None</td>\n",
       "      <td>0.68</td>\n",
       "      <td>0.69</td>\n",
       "    </tr>\n",
       "    <tr>\n",
       "      <th>RidgeClassifierCV</th>\n",
       "      <td>0.68</td>\n",
       "      <td>0.36</td>\n",
       "      <td>None</td>\n",
       "      <td>0.64</td>\n",
       "      <td>0.03</td>\n",
       "    </tr>\n",
       "    <tr>\n",
       "      <th>LinearSVC</th>\n",
       "      <td>0.68</td>\n",
       "      <td>0.36</td>\n",
       "      <td>None</td>\n",
       "      <td>0.65</td>\n",
       "      <td>0.61</td>\n",
       "    </tr>\n",
       "    <tr>\n",
       "      <th>CalibratedClassifierCV</th>\n",
       "      <td>0.68</td>\n",
       "      <td>0.36</td>\n",
       "      <td>None</td>\n",
       "      <td>0.65</td>\n",
       "      <td>2.32</td>\n",
       "    </tr>\n",
       "    <tr>\n",
       "      <th>RidgeClassifier</th>\n",
       "      <td>0.68</td>\n",
       "      <td>0.36</td>\n",
       "      <td>None</td>\n",
       "      <td>0.64</td>\n",
       "      <td>0.03</td>\n",
       "    </tr>\n",
       "    <tr>\n",
       "      <th>LogisticRegression</th>\n",
       "      <td>0.67</td>\n",
       "      <td>0.36</td>\n",
       "      <td>None</td>\n",
       "      <td>0.64</td>\n",
       "      <td>0.09</td>\n",
       "    </tr>\n",
       "    <tr>\n",
       "      <th>LinearDiscriminantAnalysis</th>\n",
       "      <td>0.67</td>\n",
       "      <td>0.36</td>\n",
       "      <td>None</td>\n",
       "      <td>0.64</td>\n",
       "      <td>0.03</td>\n",
       "    </tr>\n",
       "    <tr>\n",
       "      <th>SGDClassifier</th>\n",
       "      <td>0.67</td>\n",
       "      <td>0.36</td>\n",
       "      <td>None</td>\n",
       "      <td>0.64</td>\n",
       "      <td>0.09</td>\n",
       "    </tr>\n",
       "    <tr>\n",
       "      <th>KNeighborsClassifier</th>\n",
       "      <td>0.65</td>\n",
       "      <td>0.43</td>\n",
       "      <td>None</td>\n",
       "      <td>0.66</td>\n",
       "      <td>0.14</td>\n",
       "    </tr>\n",
       "    <tr>\n",
       "      <th>Perceptron</th>\n",
       "      <td>0.62</td>\n",
       "      <td>0.35</td>\n",
       "      <td>None</td>\n",
       "      <td>0.61</td>\n",
       "      <td>0.03</td>\n",
       "    </tr>\n",
       "    <tr>\n",
       "      <th>GaussianNB</th>\n",
       "      <td>0.61</td>\n",
       "      <td>0.49</td>\n",
       "      <td>None</td>\n",
       "      <td>0.62</td>\n",
       "      <td>0.02</td>\n",
       "    </tr>\n",
       "    <tr>\n",
       "      <th>DecisionTreeClassifier</th>\n",
       "      <td>0.61</td>\n",
       "      <td>0.38</td>\n",
       "      <td>None</td>\n",
       "      <td>0.61</td>\n",
       "      <td>0.10</td>\n",
       "    </tr>\n",
       "    <tr>\n",
       "      <th>QuadraticDiscriminantAnalysis</th>\n",
       "      <td>0.61</td>\n",
       "      <td>0.45</td>\n",
       "      <td>None</td>\n",
       "      <td>0.63</td>\n",
       "      <td>0.03</td>\n",
       "    </tr>\n",
       "    <tr>\n",
       "      <th>LabelSpreading</th>\n",
       "      <td>0.60</td>\n",
       "      <td>0.39</td>\n",
       "      <td>None</td>\n",
       "      <td>0.61</td>\n",
       "      <td>0.84</td>\n",
       "    </tr>\n",
       "    <tr>\n",
       "      <th>LabelPropagation</th>\n",
       "      <td>0.60</td>\n",
       "      <td>0.39</td>\n",
       "      <td>None</td>\n",
       "      <td>0.61</td>\n",
       "      <td>0.69</td>\n",
       "    </tr>\n",
       "    <tr>\n",
       "      <th>BernoulliNB</th>\n",
       "      <td>0.59</td>\n",
       "      <td>0.47</td>\n",
       "      <td>None</td>\n",
       "      <td>0.57</td>\n",
       "      <td>0.03</td>\n",
       "    </tr>\n",
       "    <tr>\n",
       "      <th>ExtraTreeClassifier</th>\n",
       "      <td>0.58</td>\n",
       "      <td>0.35</td>\n",
       "      <td>None</td>\n",
       "      <td>0.58</td>\n",
       "      <td>0.03</td>\n",
       "    </tr>\n",
       "    <tr>\n",
       "      <th>DummyClassifier</th>\n",
       "      <td>0.55</td>\n",
       "      <td>0.25</td>\n",
       "      <td>None</td>\n",
       "      <td>0.39</td>\n",
       "      <td>0.02</td>\n",
       "    </tr>\n",
       "    <tr>\n",
       "      <th>PassiveAggressiveClassifier</th>\n",
       "      <td>0.50</td>\n",
       "      <td>0.31</td>\n",
       "      <td>None</td>\n",
       "      <td>0.54</td>\n",
       "      <td>0.04</td>\n",
       "    </tr>\n",
       "    <tr>\n",
       "      <th>NearestCentroid</th>\n",
       "      <td>0.33</td>\n",
       "      <td>0.42</td>\n",
       "      <td>None</td>\n",
       "      <td>0.40</td>\n",
       "      <td>0.02</td>\n",
       "    </tr>\n",
       "    <tr>\n",
       "      <th>AdaBoostClassifier</th>\n",
       "      <td>0.31</td>\n",
       "      <td>0.38</td>\n",
       "      <td>None</td>\n",
       "      <td>0.35</td>\n",
       "      <td>0.76</td>\n",
       "    </tr>\n",
       "  </tbody>\n",
       "</table>\n",
       "</div>"
      ],
      "text/plain": [
       "                               Accuracy  Balanced Accuracy ROC AUC  F1 Score   \n",
       "Model                                                                          \n",
       "RandomForestClassifier             0.71               0.40    None      0.69  \\\n",
       "SVC                                0.71               0.40    None      0.69   \n",
       "ExtraTreesClassifier               0.70               0.39    None      0.68   \n",
       "LGBMClassifier                     0.70               0.40    None      0.68   \n",
       "BaggingClassifier                  0.69               0.40    None      0.68   \n",
       "RidgeClassifierCV                  0.68               0.36    None      0.64   \n",
       "LinearSVC                          0.68               0.36    None      0.65   \n",
       "CalibratedClassifierCV             0.68               0.36    None      0.65   \n",
       "RidgeClassifier                    0.68               0.36    None      0.64   \n",
       "LogisticRegression                 0.67               0.36    None      0.64   \n",
       "LinearDiscriminantAnalysis         0.67               0.36    None      0.64   \n",
       "SGDClassifier                      0.67               0.36    None      0.64   \n",
       "KNeighborsClassifier               0.65               0.43    None      0.66   \n",
       "Perceptron                         0.62               0.35    None      0.61   \n",
       "GaussianNB                         0.61               0.49    None      0.62   \n",
       "DecisionTreeClassifier             0.61               0.38    None      0.61   \n",
       "QuadraticDiscriminantAnalysis      0.61               0.45    None      0.63   \n",
       "LabelSpreading                     0.60               0.39    None      0.61   \n",
       "LabelPropagation                   0.60               0.39    None      0.61   \n",
       "BernoulliNB                        0.59               0.47    None      0.57   \n",
       "ExtraTreeClassifier                0.58               0.35    None      0.58   \n",
       "DummyClassifier                    0.55               0.25    None      0.39   \n",
       "PassiveAggressiveClassifier        0.50               0.31    None      0.54   \n",
       "NearestCentroid                    0.33               0.42    None      0.40   \n",
       "AdaBoostClassifier                 0.31               0.38    None      0.35   \n",
       "\n",
       "                               Time Taken  \n",
       "Model                                      \n",
       "RandomForestClassifier               1.60  \n",
       "SVC                                  0.78  \n",
       "ExtraTreesClassifier                 0.47  \n",
       "LGBMClassifier                       0.31  \n",
       "BaggingClassifier                    0.69  \n",
       "RidgeClassifierCV                    0.03  \n",
       "LinearSVC                            0.61  \n",
       "CalibratedClassifierCV               2.32  \n",
       "RidgeClassifier                      0.03  \n",
       "LogisticRegression                   0.09  \n",
       "LinearDiscriminantAnalysis           0.03  \n",
       "SGDClassifier                        0.09  \n",
       "KNeighborsClassifier                 0.14  \n",
       "Perceptron                           0.03  \n",
       "GaussianNB                           0.02  \n",
       "DecisionTreeClassifier               0.10  \n",
       "QuadraticDiscriminantAnalysis        0.03  \n",
       "LabelSpreading                       0.84  \n",
       "LabelPropagation                     0.69  \n",
       "BernoulliNB                          0.03  \n",
       "ExtraTreeClassifier                  0.03  \n",
       "DummyClassifier                      0.02  \n",
       "PassiveAggressiveClassifier          0.04  \n",
       "NearestCentroid                      0.02  \n",
       "AdaBoostClassifier                   0.76  "
      ]
     },
     "execution_count": 8,
     "metadata": {},
     "output_type": "execute_result"
    }
   ],
   "source": [
    "from lazypredict.Supervised import LazyClassifier\n",
    "\n",
    "clf = LazyClassifier(verbose=0, ignore_warnings=True, custom_metric=None)\n",
    "models, predictions = clf.fit(X_train, X_test, y_train, y_test)\n",
    "models.sort_values('Accuracy', ascending=False)\n"
   ]
  },
  {
   "attachments": {},
   "cell_type": "markdown",
   "metadata": {},
   "source": [
    "## **RandomForestClassifier**"
   ]
  },
  {
   "attachments": {},
   "cell_type": "markdown",
   "metadata": {},
   "source": [
    "Lo primero a realizar va a ser la obtención de los mejores parámetros para ello utilizare `RandomizedSearchCV`"
   ]
  },
  {
   "cell_type": "code",
   "execution_count": 9,
   "metadata": {},
   "outputs": [
    {
     "name": "stdout",
     "output_type": "stream",
     "text": [
      "Done!\n"
     ]
    }
   ],
   "source": [
    "from sklearn.ensemble import RandomForestClassifier\n",
    "from sklearn.model_selection import RandomizedSearchCV\n",
    "\n",
    "# Definir los hiperparámetros a explorar en el modelo\n",
    "param_dist = {\n",
    "    'n_estimators': [100, 200, 300, 400, 500],\n",
    "    'criterion': ['gini', 'entropy'],\n",
    "    'max_depth': [None, 5, 10],\n",
    "    'min_samples_split': [2, 5, 10],\n",
    "    'min_samples_leaf': [1, 2, 4],\n",
    "    'max_features': ['auto', 'sqrt'],\n",
    "    'bootstrap': [True, False],\n",
    "    'class_weight': [None, 'balanced'],\n",
    "}\n",
    "\n",
    "# Crear un objeto SVC y aplicar la búsqueda aleatoria de hiperparámetros\n",
    "rf_classifier = RandomForestClassifier(n_jobs=-1)\n",
    "\n",
    "random_rfc = RandomizedSearchCV(\n",
    "    estimator=rf_classifier, \n",
    "    param_distributions=param_dist, \n",
    "    cv=5, \n",
    "    random_state=0, \n",
    "    n_jobs=-1)\n",
    "random_rfc.fit(X_train, y_train)\n",
    "print('Done!')\n"
   ]
  },
  {
   "attachments": {},
   "cell_type": "markdown",
   "metadata": {},
   "source": [
    "Una vez ya tengo los parámetros realizare un entrenamiento y una predicción y mostrare la matriz de confusión"
   ]
  },
  {
   "cell_type": "code",
   "execution_count": 10,
   "metadata": {},
   "outputs": [
    {
     "name": "stdout",
     "output_type": "stream",
     "text": [
      "Best params: {'n_estimators': 300, 'min_samples_split': 5, 'min_samples_leaf': 1, 'max_features': 'auto', 'max_depth': None, 'criterion': 'entropy', 'class_weight': None, 'bootstrap': True}\n",
      "Accuracy: 0.7106227106227107\n"
     ]
    },
    {
     "data": {
      "image/png": "[encoded data removed]",
      "text/plain": [
       "<Figure size 640x480 with 1 Axes>"
      ]
     },
     "metadata": {},
     "output_type": "display_data"
    }
   ],
   "source": [
    "from sklearn.metrics import accuracy_score\n",
    "\n",
    "rfc = random_rfc.best_estimator_.fit(X_train, y_train)\n",
    "\n",
    "# Realizar predicciones en el conjunto de prueba\n",
    "y_pred = rfc.predict(X_test)\n",
    "\n",
    "# Calcular la precisión del modelo\n",
    "accuracy = accuracy_score(y_test, y_pred)\n",
    "print(\"Best params:\", random_rfc.best_params_)\n",
    "print(\"Accuracy:\", accuracy)\n",
    "\n",
    "# Imprimir matriz de confusión\n",
    "plot_confusion_matrix(y_test, y_pred, \n",
    "                      classes=unique_labels(y_test, y_pred))\n"
   ]
  },
  {
   "attachments": {},
   "cell_type": "markdown",
   "metadata": {},
   "source": [
    "Exportamos el modelo"
   ]
  },
  {
   "cell_type": "code",
   "execution_count": 11,
   "metadata": {},
   "outputs": [
    {
     "name": "stderr",
     "output_type": "stream",
     "text": [
      "A subdirectory or file Models already exists.\n"
     ]
    }
   ],
   "source": [
    "!mkdir Models"
   ]
  },
  {
   "cell_type": "code",
   "execution_count": 12,
   "metadata": {},
   "outputs": [
    {
     "data": {
      "text/plain": [
       "['./Models/modelo_rfc.pkl']"
      ]
     },
     "execution_count": 12,
     "metadata": {},
     "output_type": "execute_result"
    }
   ],
   "source": [
    "import joblib\n",
    "\n",
    "# Exporta el modelo a un archivo\n",
    "joblib.dump(rfc, './Models/modelo_rfc.pkl')"
   ]
  },
  {
   "attachments": {},
   "cell_type": "markdown",
   "metadata": {},
   "source": [
    "## **SVC**"
   ]
  },
  {
   "attachments": {},
   "cell_type": "markdown",
   "metadata": {},
   "source": [
    "Lo primero a realizar va a ser la obtención de los mejores parámetros para ello utilizare `RandomizedSearchCV`"
   ]
  },
  {
   "cell_type": "code",
   "execution_count": null,
   "metadata": {},
   "outputs": [
    {
     "name": "stdout",
     "output_type": "stream",
     "text": [
      "Done!\n"
     ]
    }
   ],
   "source": [
    "from sklearn.svm import SVC\n",
    "from sklearn.model_selection import RandomizedSearchCV\n",
    "\n",
    "# Definir los hiperparámetros a explorar en el modelo\n",
    "param_dist = {\n",
    "    'C': [1, 10],\n",
    "    'kernel': ['linear', 'poly', 'rbf', 'sigmoid'],\n",
    "    'degree': [2, 3, 4, 5],\n",
    "    'gamma': ['scale', 'auto'],\n",
    "    'shrinking': [False],\n",
    "    'decision_function_shape': ['ovo', 'ovr'],\n",
    "    'break_ties': [True, False]\n",
    "}\n",
    "\n",
    "# Crear un objeto SVC y aplicar la búsqueda aleatoria de hiperparámetros\n",
    "svm = SVC()\n",
    "\n",
    "random_svm = RandomizedSearchCV(\n",
    "    estimator=svm, param_distributions=param_dist, cv=5, random_state=0, n_jobs=-1)\n",
    "random_svm.fit(X_train, y_train)\n",
    "print('Done!')\n"
   ]
  },
  {
   "attachments": {},
   "cell_type": "markdown",
   "metadata": {},
   "source": [
    "Una vez ya tengo los parámetros realizare un entrenamiento y una predicción y mostrare la matriz de confusión"
   ]
  },
  {
   "cell_type": "code",
   "execution_count": null,
   "metadata": {},
   "outputs": [
    {
     "name": "stdout",
     "output_type": "stream",
     "text": [
      "Best params: {'shrinking': False, 'kernel': 'poly', 'gamma': 'auto', 'degree': 2, 'decision_function_shape': 'ovr', 'break_ties': False, 'C': 1}\n",
      "Accuracy: 0.6804029304029304\n"
     ]
    },
    {
     "data": {
      "image/png": "[encoded data removed]",
      "text/plain": [
       "<Figure size 640x480 with 1 Axes>"
      ]
     },
     "metadata": {},
     "output_type": "display_data"
    }
   ],
   "source": [
    "from sklearn.metrics import accuracy_score\n",
    "\n",
    "svc = random_svm.best_estimator_.fit(X_train, y_train)\n",
    "\n",
    "y_pred = svc.predict(X_test)\n",
    "\n",
    "# Calcular la precisión del modelo\n",
    "accuracy = accuracy_score(y_test, y_pred)\n",
    "print(\"Best params:\", random_svm.best_params_)\n",
    "print(\"Accuracy:\", accuracy)\n",
    "\n",
    "# Imprimir matriz de confusión\n",
    "plot_confusion_matrix(y_test, y_pred, classes=unique_labels(y_test, y_pred))\n"
   ]
  },
  {
   "attachments": {},
   "cell_type": "markdown",
   "metadata": {},
   "source": [
    "Exportamos el modelo"
   ]
  },
  {
   "cell_type": "code",
   "execution_count": null,
   "metadata": {},
   "outputs": [
    {
     "name": "stderr",
     "output_type": "stream",
     "text": [
      "A subdirectory or file Models already exists.\n"
     ]
    }
   ],
   "source": [
    "!mkdir Models"
   ]
  },
  {
   "cell_type": "code",
   "execution_count": null,
   "metadata": {},
   "outputs": [
    {
     "data": {
      "text/plain": [
       "['./Models/modelo_svc.pkl']"
      ]
     },
     "execution_count": 16,
     "metadata": {},
     "output_type": "execute_result"
    }
   ],
   "source": [
    "import joblib\n",
    "\n",
    "# Exporta el modelo a un archivo\n",
    "joblib.dump(svc, './Models/modelo_svc.pkl')"
   ]
  },
  {
   "attachments": {},
   "cell_type": "markdown",
   "metadata": {},
   "source": [
    "## **Red Neuronal con LSTM**"
   ]
  },
  {
   "attachments": {},
   "cell_type": "markdown",
   "metadata": {},
   "source": [
    "Realizamos la codificación de etiquetas y la conversión a codificación one-hot para los datos de destino `y_train` y `y_test`."
   ]
  },
  {
   "cell_type": "code",
   "execution_count": 14,
   "metadata": {},
   "outputs": [],
   "source": [
    "from sklearn.preprocessing import LabelEncoder\n",
    "from keras.utils import to_categorical\n",
    "\n",
    "# Combinar y_train y y_test\n",
    "y_combined = np.concatenate((y_train, y_test), axis=0)\n",
    "\n",
    "# Aplicar LabelEncoder y to_categorical a y_combined\n",
    "le = LabelEncoder()\n",
    "y_encoded = le.fit_transform(y_combined)\n",
    "y_categorical = to_categorical(y_encoded)\n",
    "\n",
    "# Dividir nuevamente en y_train y y_test\n",
    "y_train = y_categorical[:len(y_train)]\n",
    "y_test = y_categorical[len(y_train):]\n"
   ]
  },
  {
   "attachments": {},
   "cell_type": "markdown",
   "metadata": {},
   "source": [
    "A continuación vamos a crear el modelo y realizar un entrenamiento, luego obtendremos el loss y la precisión de nuestro modelo"
   ]
  },
  {
   "cell_type": "code",
   "execution_count": 22,
   "metadata": {},
   "outputs": [
    {
     "name": "stdout",
     "output_type": "stream",
     "text": [
      "Epoch 1/50\n",
      "35/35 [==============================] - 1s 7ms/step - loss: 9.4429 - accuracy: 0.4390 - val_loss: 2.2640 - val_accuracy: 0.5907\n",
      "Epoch 2/50\n",
      "35/35 [==============================] - 0s 5ms/step - loss: 1.5501 - accuracy: 0.5370 - val_loss: 1.1718 - val_accuracy: 0.4899\n",
      "Epoch 3/50\n",
      "35/35 [==============================] - 0s 6ms/step - loss: 1.0590 - accuracy: 0.5551 - val_loss: 0.8852 - val_accuracy: 0.6364\n",
      "Epoch 4/50\n",
      "35/35 [==============================] - 0s 5ms/step - loss: 0.9617 - accuracy: 0.5807 - val_loss: 0.8942 - val_accuracy: 0.6383\n",
      "Epoch 5/50\n",
      "35/35 [==============================] - 0s 5ms/step - loss: 0.9524 - accuracy: 0.5931 - val_loss: 0.9823 - val_accuracy: 0.5385\n",
      "Epoch 6/50\n",
      "35/35 [==============================] - 0s 5ms/step - loss: 1.0104 - accuracy: 0.5814 - val_loss: 0.8422 - val_accuracy: 0.6658\n",
      "Epoch 7/50\n",
      "35/35 [==============================] - 0s 5ms/step - loss: 0.9555 - accuracy: 0.5894 - val_loss: 1.0834 - val_accuracy: 0.4890\n",
      "Epoch 8/50\n",
      "35/35 [==============================] - 0s 5ms/step - loss: 0.9283 - accuracy: 0.6002 - val_loss: 0.9532 - val_accuracy: 0.5577\n",
      "Epoch 9/50\n",
      "35/35 [==============================] - 0s 5ms/step - loss: 1.0232 - accuracy: 0.5748 - val_loss: 1.0045 - val_accuracy: 0.6200\n",
      "Epoch 10/50\n",
      "35/35 [==============================] - 0s 5ms/step - loss: 1.0133 - accuracy: 0.5741 - val_loss: 0.9897 - val_accuracy: 0.5119\n",
      "Epoch 11/50\n",
      "35/35 [==============================] - 0s 5ms/step - loss: 1.0944 - accuracy: 0.5443 - val_loss: 1.4202 - val_accuracy: 0.5623\n",
      "Epoch 12/50\n",
      "35/35 [==============================] - 0s 5ms/step - loss: 1.1374 - accuracy: 0.5638 - val_loss: 0.8919 - val_accuracy: 0.5989\n",
      "Epoch 13/50\n",
      "35/35 [==============================] - 0s 5ms/step - loss: 0.9007 - accuracy: 0.6038 - val_loss: 0.8240 - val_accuracy: 0.6694\n",
      "Epoch 14/50\n",
      "35/35 [==============================] - 0s 5ms/step - loss: 0.9283 - accuracy: 0.6084 - val_loss: 0.8381 - val_accuracy: 0.6337\n",
      "Epoch 15/50\n",
      "35/35 [==============================] - 0s 5ms/step - loss: 0.8972 - accuracy: 0.6213 - val_loss: 1.0485 - val_accuracy: 0.5046\n",
      "Epoch 16/50\n",
      "35/35 [==============================] - 0s 5ms/step - loss: 0.8879 - accuracy: 0.6210 - val_loss: 0.9712 - val_accuracy: 0.6136\n",
      "Epoch 17/50\n",
      "35/35 [==============================] - 0s 4ms/step - loss: 1.0315 - accuracy: 0.5697 - val_loss: 0.9543 - val_accuracy: 0.6758\n",
      "Epoch 18/50\n",
      "35/35 [==============================] - 0s 5ms/step - loss: 0.9697 - accuracy: 0.5956 - val_loss: 0.8549 - val_accuracy: 0.6227\n",
      "Epoch 19/50\n",
      "35/35 [==============================] - 0s 5ms/step - loss: 0.9187 - accuracy: 0.6032 - val_loss: 1.5109 - val_accuracy: 0.3755\n",
      "Epoch 20/50\n",
      "35/35 [==============================] - 0s 5ms/step - loss: 1.0869 - accuracy: 0.5597 - val_loss: 0.8170 - val_accuracy: 0.6703\n",
      "Epoch 21/50\n",
      "35/35 [==============================] - 0s 5ms/step - loss: 0.9112 - accuracy: 0.6045 - val_loss: 0.8654 - val_accuracy: 0.6364\n",
      "Epoch 22/50\n",
      "35/35 [==============================] - 0s 5ms/step - loss: 1.0081 - accuracy: 0.5798 - val_loss: 1.1340 - val_accuracy: 0.5815\n",
      "Epoch 23/50\n",
      "35/35 [==============================] - 0s 5ms/step - loss: 0.9320 - accuracy: 0.6009 - val_loss: 0.8018 - val_accuracy: 0.6758\n",
      "Epoch 24/50\n",
      "35/35 [==============================] - 0s 5ms/step - loss: 0.8625 - accuracy: 0.6288 - val_loss: 0.8293 - val_accuracy: 0.6630\n",
      "Epoch 25/50\n",
      "35/35 [==============================] - 0s 5ms/step - loss: 0.8750 - accuracy: 0.6272 - val_loss: 0.7872 - val_accuracy: 0.6703\n",
      "Epoch 26/50\n",
      "35/35 [==============================] - 0s 5ms/step - loss: 0.9170 - accuracy: 0.6128 - val_loss: 1.4166 - val_accuracy: 0.5614\n",
      "Epoch 27/50\n",
      "35/35 [==============================] - 0s 5ms/step - loss: 0.9800 - accuracy: 0.5864 - val_loss: 0.8909 - val_accuracy: 0.6310\n",
      "Epoch 28/50\n",
      "35/35 [==============================] - 0s 5ms/step - loss: 0.8700 - accuracy: 0.6169 - val_loss: 0.9625 - val_accuracy: 0.5256\n",
      "Epoch 29/50\n",
      "35/35 [==============================] - 0s 5ms/step - loss: 0.9310 - accuracy: 0.6050 - val_loss: 1.6412 - val_accuracy: 0.3736\n",
      "Epoch 30/50\n",
      "35/35 [==============================] - 0s 5ms/step - loss: 1.1964 - accuracy: 0.5416 - val_loss: 0.7899 - val_accuracy: 0.6722\n",
      "Epoch 31/50\n",
      "35/35 [==============================] - 0s 5ms/step - loss: 0.8737 - accuracy: 0.6164 - val_loss: 0.9896 - val_accuracy: 0.5641\n",
      "Epoch 32/50\n",
      "35/35 [==============================] - 0s 5ms/step - loss: 0.8599 - accuracy: 0.6300 - val_loss: 0.8046 - val_accuracy: 0.6648\n",
      "Epoch 33/50\n",
      "35/35 [==============================] - 0s 5ms/step - loss: 0.8392 - accuracy: 0.6316 - val_loss: 0.8182 - val_accuracy: 0.6841\n",
      "Epoch 34/50\n",
      "35/35 [==============================] - 0s 5ms/step - loss: 0.8701 - accuracy: 0.6272 - val_loss: 0.8985 - val_accuracy: 0.5962\n",
      "Epoch 35/50\n",
      "35/35 [==============================] - 0s 5ms/step - loss: 0.8782 - accuracy: 0.6155 - val_loss: 0.8119 - val_accuracy: 0.6593\n",
      "Epoch 36/50\n",
      "35/35 [==============================] - 0s 5ms/step - loss: 0.8657 - accuracy: 0.6311 - val_loss: 0.8924 - val_accuracy: 0.6016\n",
      "Epoch 37/50\n",
      "35/35 [==============================] - 0s 5ms/step - loss: 0.8756 - accuracy: 0.6208 - val_loss: 0.8439 - val_accuracy: 0.6474\n",
      "Epoch 38/50\n",
      "35/35 [==============================] - 0s 5ms/step - loss: 0.8506 - accuracy: 0.6334 - val_loss: 0.8096 - val_accuracy: 0.6566\n",
      "Epoch 39/50\n",
      "35/35 [==============================] - 0s 5ms/step - loss: 0.8744 - accuracy: 0.6222 - val_loss: 0.8723 - val_accuracy: 0.6163\n",
      "Epoch 40/50\n",
      "35/35 [==============================] - 0s 5ms/step - loss: 0.8381 - accuracy: 0.6400 - val_loss: 0.8423 - val_accuracy: 0.6557\n",
      "Epoch 41/50\n",
      "35/35 [==============================] - 0s 5ms/step - loss: 0.8652 - accuracy: 0.6190 - val_loss: 1.1159 - val_accuracy: 0.4826\n",
      "Epoch 42/50\n",
      "35/35 [==============================] - 0s 5ms/step - loss: 0.8689 - accuracy: 0.6267 - val_loss: 0.9177 - val_accuracy: 0.6154\n",
      "Epoch 43/50\n",
      "35/35 [==============================] - 0s 5ms/step - loss: 0.9090 - accuracy: 0.6162 - val_loss: 0.8296 - val_accuracy: 0.6484\n",
      "Epoch 44/50\n",
      "35/35 [==============================] - 0s 5ms/step - loss: 0.9162 - accuracy: 0.6075 - val_loss: 1.0658 - val_accuracy: 0.5055\n",
      "Epoch 45/50\n",
      "35/35 [==============================] - 0s 5ms/step - loss: 0.8921 - accuracy: 0.6229 - val_loss: 1.0967 - val_accuracy: 0.3755\n",
      "Epoch 46/50\n",
      "35/35 [==============================] - 0s 5ms/step - loss: 0.8775 - accuracy: 0.6164 - val_loss: 0.8949 - val_accuracy: 0.5952\n",
      "Epoch 47/50\n",
      "35/35 [==============================] - 0s 5ms/step - loss: 0.8716 - accuracy: 0.6203 - val_loss: 0.8651 - val_accuracy: 0.6328\n",
      "Epoch 48/50\n",
      "35/35 [==============================] - 0s 5ms/step - loss: 0.8776 - accuracy: 0.6158 - val_loss: 0.8392 - val_accuracy: 0.6694\n",
      "Epoch 49/50\n",
      "35/35 [==============================] - 0s 5ms/step - loss: 0.8526 - accuracy: 0.6240 - val_loss: 0.8617 - val_accuracy: 0.6273\n",
      "Epoch 50/50\n",
      "35/35 [==============================] - 0s 5ms/step - loss: 0.8395 - accuracy: 0.6341 - val_loss: 0.9710 - val_accuracy: 0.6181\n",
      "35/35 [==============================] - 0s 2ms/step - loss: 0.9710 - accuracy: 0.6181\n",
      "Loss: 0.9710136651992798\n",
      "Accuracy: 0.6181318759918213\n"
     ]
    }
   ],
   "source": [
    "from keras.models import Sequential\n",
    "from keras.layers import Dense\n",
    "\n",
    "# Definir la arquitectura del modelo\n",
    "model = Sequential()\n",
    "model.add(Dense(32, input_shape=(X_train.shape[1],)))\n",
    "model.add(Dense(64, activation='relu'))\n",
    "model.add(Dense(128, activation='relu'))\n",
    "model.add(Dense(5, activation='softmax'))\n",
    "# Compilar el modelo\n",
    "model.compile(optimizer='adam', loss='categorical_crossentropy',\n",
    "              metrics=['accuracy'])\n",
    "\n",
    "# Entrenar el modelo\n",
    "history = model.fit(X_train, y_train, epochs=50, batch_size=128,\n",
    "                    validation_data=(X_test, y_test))\n",
    "\n",
    "# Evaluar el modelo en el conjunto de prueba\n",
    "loss, accuracy = model.evaluate(X_test, y_test)\n",
    "\n",
    "print(\"Loss:\", loss)\n",
    "print(\"Accuracy:\", accuracy)"
   ]
  },
  {
   "cell_type": "code",
   "execution_count": 23,
   "metadata": {},
   "outputs": [
    {
     "data": {
      "image/png": "[encoded data removed]",
      "text/plain": [
       "<Figure size 640x480 with 1 Axes>"
      ]
     },
     "metadata": {},
     "output_type": "display_data"
    }
   ],
   "source": [
    "# Make a plot for the loss\n",
    "pd.DataFrame(history.history)[['loss', 'val_loss']].plot()\n",
    "plt.title(\"Loss\")\n",
    "plt.show()\n"
   ]
  },
  {
   "cell_type": "code",
   "execution_count": 24,
   "metadata": {},
   "outputs": [
    {
     "data": {
      "image/png": "[encoded data removed]",
      "text/plain": [
       "<Figure size 640x480 with 1 Axes>"
      ]
     },
     "metadata": {},
     "output_type": "display_data"
    }
   ],
   "source": [
    "# Make a plot for the accuracy\n",
    "pd.DataFrame(history.history)[['accuracy', 'val_accuracy']].plot()\n",
    "plt.title(\"Accuracy\")\n",
    "plt.show()\n"
   ]
  },
  {
   "attachments": {},
   "cell_type": "markdown",
   "metadata": {},
   "source": [
    "Ahora vamos a realizar una predicción y la vamos a decodificar"
   ]
  },
  {
   "cell_type": "code",
   "execution_count": null,
   "metadata": {},
   "outputs": [
    {
     "name": "stdout",
     "output_type": "stream",
     "text": [
      "35/35 [==============================] - 0s 5ms/step\n"
     ]
    }
   ],
   "source": [
    "y_pred = model.predict(X_test)\n",
    "y_test = le.inverse_transform(np.argmax(y_test, axis=1))\n",
    "y_pred= le.inverse_transform(np.argmax(y_pred, axis=1))"
   ]
  },
  {
   "attachments": {},
   "cell_type": "markdown",
   "metadata": {},
   "source": [
    "Mostramos la matriz de confusión"
   ]
  },
  {
   "cell_type": "code",
   "execution_count": null,
   "metadata": {},
   "outputs": [
    {
     "data": {
      "image/png": "[encoded data removed]",
      "text/plain": [
       "<Figure size 640x480 with 1 Axes>"
      ]
     },
     "metadata": {},
     "output_type": "display_data"
    }
   ],
   "source": [
    "plot_confusion_matrix(y_test, y_pred,\n",
    "                      classes=unique_labels(y_test, y_pred))\n"
   ]
  },
  {
   "attachments": {},
   "cell_type": "markdown",
   "metadata": {},
   "source": [
    "Exportamos el modelo"
   ]
  },
  {
   "cell_type": "code",
   "execution_count": null,
   "metadata": {},
   "outputs": [
    {
     "name": "stderr",
     "output_type": "stream",
     "text": [
      "A subdirectory or file Models already exists.\n"
     ]
    }
   ],
   "source": [
    "!mkdir Models"
   ]
  },
  {
   "cell_type": "code",
   "execution_count": null,
   "metadata": {},
   "outputs": [
    {
     "data": {
      "text/plain": [
       "['./Models/label_encoder_mel.pkl']"
      ]
     },
     "execution_count": 24,
     "metadata": {},
     "output_type": "execute_result"
    }
   ],
   "source": [
    "import tensorflow as tf\n",
    "import joblib\n",
    "\n",
    "# Guarda el modelo en formato h5\n",
    "tf.keras.models.save_model(model, './Models/modeloRN_mel.h5')\n",
    "joblib.dump(le, './Models/label_encoder_mel.pkl')"
   ]
  },
  {
   "attachments": {},
   "cell_type": "markdown",
   "metadata": {},
   "source": [
    "# **2. Enfoque 2 - Imagenes de espectogramas**"
   ]
  },
  {
   "attachments": {},
   "cell_type": "markdown",
   "metadata": {},
   "source": [
    "Lo primero que vamos a hacer es obtener todas las imágenes "
   ]
  },
  {
   "cell_type": "code",
   "execution_count": 2,
   "metadata": {},
   "outputs": [],
   "source": [
    "MAP_LABELS = {\n",
    "    0: 'allfreq', 1: 'cetaceans_allfreq', 2: 'click',\n",
    "    3: 'volcano', 4: 'whistle'\n",
    "}\n",
    "\n",
    "# Vamos a standarizar todas las imágenes a tamaño 64x64\n",
    "IMG_SIZE = 128"
   ]
  },
  {
   "cell_type": "code",
   "execution_count": 3,
   "metadata": {},
   "outputs": [],
   "source": [
    "import os \n",
    "import cv2\n",
    "import numpy as np\n",
    "\n",
    "def load_img_set(dirname, map_characters, verbose=True):\n",
    "    X_train = []\n",
    "    y_train = []\n",
    "    for label, character in map_characters.items():        \n",
    "        files = os.listdir(os.path.join(dirname, character))\n",
    "        images = [file for file in files if file.endswith(\"png\")]\n",
    "        if verbose:\n",
    "          print(\"Leyendo {} imágenes encontradas de {}\".format(len(images), character))\n",
    "        for image_name in images:\n",
    "            image = cv2.imread(os.path.join(dirname, character, image_name))\n",
    "            X_train.append(cv2.resize(image,(IMG_SIZE, IMG_SIZE)))\n",
    "            y_train.append(character)\n",
    "    return np.array(X_train), np.array(y_train)"
   ]
  },
  {
   "cell_type": "code",
   "execution_count": 4,
   "metadata": {},
   "outputs": [
    {
     "name": "stdout",
     "output_type": "stream",
     "text": [
      "Leyendo 23 imágenes encontradas de allfreq\n",
      "Leyendo 476 imágenes encontradas de cetaceans_allfreq\n",
      "Leyendo 2077 imágenes encontradas de click\n",
      "Leyendo 4 imágenes encontradas de volcano\n",
      "Leyendo 2879 imágenes encontradas de whistle\n"
     ]
    }
   ],
   "source": [
    "from sklearn.preprocessing import LabelEncoder\n",
    "from keras.utils import to_categorical\n",
    "\n",
    "DATASET_PATH = \"./Datos/enfoque2/\"\n",
    "\n",
    "X, y = load_img_set(DATASET_PATH, MAP_LABELS)\n",
    "X = X / 255.0\n",
    "\n",
    "# Aplicar LabelEncoder y to_categorical a y_combined\n",
    "le = LabelEncoder()\n",
    "y = le.fit_transform(y)\n",
    "y = to_categorical(y)"
   ]
  },
  {
   "attachments": {},
   "cell_type": "markdown",
   "metadata": {},
   "source": [
    "Luego vamos a crear nuestro modelo y vamos a ponerlo a entrenar "
   ]
  },
  {
   "cell_type": "code",
   "execution_count": 5,
   "metadata": {},
   "outputs": [],
   "source": [
    "import tensorflow as tf\n",
    "from keras.models import Sequential\n",
    "from keras.layers import Conv2D, MaxPooling2D, Flatten, Dense\n"
   ]
  },
  {
   "cell_type": "code",
   "execution_count": 13,
   "metadata": {},
   "outputs": [
    {
     "name": "stdout",
     "output_type": "stream",
     "text": [
      "Model: \"sequential_1\"\n",
      "_________________________________________________________________\n",
      " Layer (type)                Output Shape              Param #   \n",
      "=================================================================\n",
      " conv2d_3 (Conv2D)           (None, 64, 64, 32)        896       \n",
      "                                                                 \n",
      " batch_normalization_7 (Batc  (None, 64, 64, 32)       128       \n",
      " hNormalization)                                                 \n",
      "                                                                 \n",
      " max_pooling2d_3 (MaxPooling  (None, 32, 32, 32)       0         \n",
      " 2D)                                                             \n",
      "                                                                 \n",
      " batch_normalization_8 (Batc  (None, 32, 32, 32)       128       \n",
      " hNormalization)                                                 \n",
      "                                                                 \n",
      " conv2d_4 (Conv2D)           (None, 32, 32, 64)        18496     \n",
      "                                                                 \n",
      " batch_normalization_9 (Batc  (None, 32, 32, 64)       256       \n",
      " hNormalization)                                                 \n",
      "                                                                 \n",
      " dropout_1 (Dropout)         (None, 32, 32, 64)        0         \n",
      "                                                                 \n",
      " max_pooling2d_4 (MaxPooling  (None, 16, 16, 64)       0         \n",
      " 2D)                                                             \n",
      "                                                                 \n",
      " batch_normalization_10 (Bat  (None, 16, 16, 64)       256       \n",
      " chNormalization)                                                \n",
      "                                                                 \n",
      " conv2d_5 (Conv2D)           (None, 16, 16, 128)       73856     \n",
      "                                                                 \n",
      " batch_normalization_11 (Bat  (None, 16, 16, 128)      512       \n",
      " chNormalization)                                                \n",
      "                                                                 \n",
      " max_pooling2d_5 (MaxPooling  (None, 8, 8, 128)        0         \n",
      " 2D)                                                             \n",
      "                                                                 \n",
      " batch_normalization_12 (Bat  (None, 8, 8, 128)        512       \n",
      " chNormalization)                                                \n",
      "                                                                 \n",
      " flatten_1 (Flatten)         (None, 8192)              0         \n",
      "                                                                 \n",
      " dense_2 (Dense)             (None, 256)               2097408   \n",
      "                                                                 \n",
      " batch_normalization_13 (Bat  (None, 256)              1024      \n",
      " chNormalization)                                                \n",
      "                                                                 \n",
      " dropout_2 (Dropout)         (None, 256)               0         \n",
      "                                                                 \n",
      " dense_3 (Dense)             (None, 5)                 1285      \n",
      "                                                                 \n",
      "=================================================================\n",
      "Total params: 2,194,757\n",
      "Trainable params: 2,193,349\n",
      "Non-trainable params: 1,408\n",
      "_________________________________________________________________\n"
     ]
    }
   ],
   "source": [
    "# Definir la arquitectura de la red neuronal\n",
    "model = Sequential([\n",
    "    Conv2D(32, (3, 3), activation='relu', input_shape=(128, 128, 3)),\n",
    "    MaxPooling2D((2, 2)),\n",
    "    Flatten(),\n",
    "    Dense(128, activation='relu'),\n",
    "    Dense(5, activation='softmax')\n",
    "])\n",
    "\n",
    "model.summary()\n"
   ]
  },
  {
   "cell_type": "code",
   "execution_count": 14,
   "metadata": {},
   "outputs": [],
   "source": [
    "model.compile(\n",
    "    optimizer='adam',\n",
    "    loss='categorical_crossentropy',\n",
    "    metrics=['accuracy']\n",
    ")"
   ]
  },
  {
   "cell_type": "code",
   "execution_count": 8,
   "metadata": {},
   "outputs": [],
   "source": [
    "from sklearn.model_selection import train_test_split\n",
    "\n",
    "# Divide los datos en conjuntos de entrenamiento, validación y prueba\n",
    "X_train, X_val_test, Y_train, Y_val_test = train_test_split(X, y, test_size=0.2, random_state=42)\n",
    "X_val, X_test, Y_val, Y_test = train_test_split(X_val_test, Y_val_test, test_size=0.75, random_state=42)"
   ]
  },
  {
   "cell_type": "code",
   "execution_count": 15,
   "metadata": {},
   "outputs": [
    {
     "name": "stdout",
     "output_type": "stream",
     "text": [
      "Epoch 1/10\n",
      "137/137 [==============================] - 2s 13ms/step - loss: 1.3855 - accuracy: 0.5246 - val_loss: 2.6425 - val_accuracy: 0.4689\n",
      "Epoch 2/10\n",
      "137/137 [==============================] - 2s 12ms/step - loss: 0.8993 - accuracy: 0.6471 - val_loss: 5.1611 - val_accuracy: 0.0073\n",
      "Epoch 3/10\n",
      "137/137 [==============================] - 2s 12ms/step - loss: 0.8861 - accuracy: 0.6416 - val_loss: 1.1859 - val_accuracy: 0.4799\n",
      "Epoch 4/10\n",
      "137/137 [==============================] - 2s 12ms/step - loss: 0.7957 - accuracy: 0.6737 - val_loss: 3.0017 - val_accuracy: 0.4725\n",
      "Epoch 5/10\n",
      "137/137 [==============================] - 2s 12ms/step - loss: 0.7400 - accuracy: 0.6934 - val_loss: 0.9012 - val_accuracy: 0.6960\n",
      "Epoch 6/10\n",
      "137/137 [==============================] - 2s 11ms/step - loss: 0.7152 - accuracy: 0.6957 - val_loss: 5.5494 - val_accuracy: 0.4762\n",
      "Epoch 7/10\n",
      "137/137 [==============================] - 1s 10ms/step - loss: 0.6724 - accuracy: 0.7238 - val_loss: 0.7405 - val_accuracy: 0.6447\n",
      "Epoch 8/10\n",
      "137/137 [==============================] - 1s 11ms/step - loss: 0.6435 - accuracy: 0.7406 - val_loss: 1.8485 - val_accuracy: 0.4762\n",
      "Epoch 9/10\n",
      "137/137 [==============================] - 1s 10ms/step - loss: 0.6184 - accuracy: 0.7534 - val_loss: 1.4986 - val_accuracy: 0.4359\n",
      "Epoch 10/10\n",
      "137/137 [==============================] - 1s 11ms/step - loss: 0.5973 - accuracy: 0.7653 - val_loss: 2.1452 - val_accuracy: 0.4396\n"
     ]
    },
    {
     "ename": "ValueError",
     "evalue": "in user code:\n\n    File \"c:\\Users\\madre\\miniconda3\\lib\\site-packages\\keras\\engine\\training.py\", line 1727, in test_function  *\n        return step_function(self, iterator)\n    File \"c:\\Users\\madre\\miniconda3\\lib\\site-packages\\keras\\engine\\training.py\", line 1713, in step_function  **\n        outputs = model.distribute_strategy.run(run_step, args=(data,))\n    File \"c:\\Users\\madre\\miniconda3\\lib\\site-packages\\keras\\engine\\training.py\", line 1701, in run_step  **\n        outputs = model.test_step(data)\n    File \"c:\\Users\\madre\\miniconda3\\lib\\site-packages\\keras\\engine\\training.py\", line 1667, in test_step\n        self.compute_loss(x, y, y_pred, sample_weight)\n    File \"c:\\Users\\madre\\miniconda3\\lib\\site-packages\\keras\\engine\\training.py\", line 1052, in compute_loss\n        return self.compiled_loss(\n    File \"c:\\Users\\madre\\miniconda3\\lib\\site-packages\\keras\\engine\\compile_utils.py\", line 265, in __call__\n        loss_value = loss_obj(y_t, y_p, sample_weight=sw)\n    File \"c:\\Users\\madre\\miniconda3\\lib\\site-packages\\keras\\losses.py\", line 152, in __call__\n        losses = call_fn(y_true, y_pred)\n    File \"c:\\Users\\madre\\miniconda3\\lib\\site-packages\\keras\\losses.py\", line 272, in call  **\n        return ag_fn(y_true, y_pred, **self._fn_kwargs)\n    File \"c:\\Users\\madre\\miniconda3\\lib\\site-packages\\keras\\losses.py\", line 1990, in categorical_crossentropy\n        return backend.categorical_crossentropy(\n    File \"c:\\Users\\madre\\miniconda3\\lib\\site-packages\\keras\\backend.py\", line 5529, in categorical_crossentropy\n        target.shape.assert_is_compatible_with(output.shape)\n\n    ValueError: Shapes (None, 1) and (None, 5) are incompatible\n",
     "output_type": "error",
     "traceback": [
      "\u001b[1;31m---------------------------------------------------------------------------\u001b[0m",
      "\u001b[1;31mValueError\u001b[0m                                Traceback (most recent call last)",
      "Cell \u001b[1;32mIn[15], line 9\u001b[0m\n\u001b[0;32m      1\u001b[0m history \u001b[39m=\u001b[39m model\u001b[39m.\u001b[39mfit(\n\u001b[0;32m      2\u001b[0m     X_train, Y_train, \n\u001b[0;32m      3\u001b[0m     validation_data\u001b[39m=\u001b[39m(X_val, Y_val),\n\u001b[0;32m      4\u001b[0m     batch_size\u001b[39m=\u001b[39m\u001b[39m32\u001b[39m,\n\u001b[0;32m      5\u001b[0m     epochs\u001b[39m=\u001b[39m\u001b[39m10\u001b[39m\n\u001b[0;32m      6\u001b[0m )\n\u001b[0;32m      8\u001b[0m \u001b[39m# Evaluar el modelo en el conjunto de prueba\u001b[39;00m\n\u001b[1;32m----> 9\u001b[0m loss, accuracy \u001b[39m=\u001b[39m model\u001b[39m.\u001b[39;49mevaluate(X_test, Y_test)\n\u001b[0;32m     11\u001b[0m \u001b[39mprint\u001b[39m(\u001b[39m\"\u001b[39m\u001b[39mLoss:\u001b[39m\u001b[39m\"\u001b[39m, loss)\n\u001b[0;32m     12\u001b[0m \u001b[39mprint\u001b[39m(\u001b[39m\"\u001b[39m\u001b[39mAccuracy:\u001b[39m\u001b[39m\"\u001b[39m, accuracy)\n",
      "File \u001b[1;32mc:\\Users\\madre\\miniconda3\\lib\\site-packages\\keras\\utils\\traceback_utils.py:70\u001b[0m, in \u001b[0;36mfilter_traceback.<locals>.error_handler\u001b[1;34m(*args, **kwargs)\u001b[0m\n\u001b[0;32m     67\u001b[0m     filtered_tb \u001b[39m=\u001b[39m _process_traceback_frames(e\u001b[39m.\u001b[39m__traceback__)\n\u001b[0;32m     68\u001b[0m     \u001b[39m# To get the full stack trace, call:\u001b[39;00m\n\u001b[0;32m     69\u001b[0m     \u001b[39m# `tf.debugging.disable_traceback_filtering()`\u001b[39;00m\n\u001b[1;32m---> 70\u001b[0m     \u001b[39mraise\u001b[39;00m e\u001b[39m.\u001b[39mwith_traceback(filtered_tb) \u001b[39mfrom\u001b[39;00m \u001b[39mNone\u001b[39;00m\n\u001b[0;32m     71\u001b[0m \u001b[39mfinally\u001b[39;00m:\n\u001b[0;32m     72\u001b[0m     \u001b[39mdel\u001b[39;00m filtered_tb\n",
      "File \u001b[1;32m~\\AppData\\Local\\Temp\\__autograph_generated_file3732w72x.py:15\u001b[0m, in \u001b[0;36mouter_factory.<locals>.inner_factory.<locals>.tf__test_function\u001b[1;34m(iterator)\u001b[0m\n\u001b[0;32m     13\u001b[0m \u001b[39mtry\u001b[39;00m:\n\u001b[0;32m     14\u001b[0m     do_return \u001b[39m=\u001b[39m \u001b[39mTrue\u001b[39;00m\n\u001b[1;32m---> 15\u001b[0m     retval_ \u001b[39m=\u001b[39m ag__\u001b[39m.\u001b[39mconverted_call(ag__\u001b[39m.\u001b[39mld(step_function), (ag__\u001b[39m.\u001b[39mld(\u001b[39mself\u001b[39m), ag__\u001b[39m.\u001b[39mld(iterator)), \u001b[39mNone\u001b[39;00m, fscope)\n\u001b[0;32m     16\u001b[0m \u001b[39mexcept\u001b[39;00m:\n\u001b[0;32m     17\u001b[0m     do_return \u001b[39m=\u001b[39m \u001b[39mFalse\u001b[39;00m\n",
      "\u001b[1;31mValueError\u001b[0m: in user code:\n\n    File \"c:\\Users\\madre\\miniconda3\\lib\\site-packages\\keras\\engine\\training.py\", line 1727, in test_function  *\n        return step_function(self, iterator)\n    File \"c:\\Users\\madre\\miniconda3\\lib\\site-packages\\keras\\engine\\training.py\", line 1713, in step_function  **\n        outputs = model.distribute_strategy.run(run_step, args=(data,))\n    File \"c:\\Users\\madre\\miniconda3\\lib\\site-packages\\keras\\engine\\training.py\", line 1701, in run_step  **\n        outputs = model.test_step(data)\n    File \"c:\\Users\\madre\\miniconda3\\lib\\site-packages\\keras\\engine\\training.py\", line 1667, in test_step\n        self.compute_loss(x, y, y_pred, sample_weight)\n    File \"c:\\Users\\madre\\miniconda3\\lib\\site-packages\\keras\\engine\\training.py\", line 1052, in compute_loss\n        return self.compiled_loss(\n    File \"c:\\Users\\madre\\miniconda3\\lib\\site-packages\\keras\\engine\\compile_utils.py\", line 265, in __call__\n        loss_value = loss_obj(y_t, y_p, sample_weight=sw)\n    File \"c:\\Users\\madre\\miniconda3\\lib\\site-packages\\keras\\losses.py\", line 152, in __call__\n        losses = call_fn(y_true, y_pred)\n    File \"c:\\Users\\madre\\miniconda3\\lib\\site-packages\\keras\\losses.py\", line 272, in call  **\n        return ag_fn(y_true, y_pred, **self._fn_kwargs)\n    File \"c:\\Users\\madre\\miniconda3\\lib\\site-packages\\keras\\losses.py\", line 1990, in categorical_crossentropy\n        return backend.categorical_crossentropy(\n    File \"c:\\Users\\madre\\miniconda3\\lib\\site-packages\\keras\\backend.py\", line 5529, in categorical_crossentropy\n        target.shape.assert_is_compatible_with(output.shape)\n\n    ValueError: Shapes (None, 1) and (None, 5) are incompatible\n"
     ]
    }
   ],
   "source": [
    "history = model.fit(\n",
    "    X_train, Y_train, \n",
    "    validation_data=(X_val, Y_val),\n",
    "    batch_size=32,\n",
    "    epochs=10\n",
    ")\n",
    "\n",
    "# Evaluar el modelo en el conjunto de prueba\n",
    "loss, accuracy = model.evaluate(X_test, Y_test)\n",
    "\n",
    "print(\"Loss:\", loss)\n",
    "print(\"Accuracy:\", accuracy)"
   ]
  },
  {
   "attachments": {},
   "cell_type": "markdown",
   "metadata": {},
   "source": [
    "y por ultimo vamos a evaluar el modelo con la matriz de confusión "
   ]
  },
  {
   "cell_type": "code",
   "execution_count": 10,
   "metadata": {},
   "outputs": [
    {
     "name": "stdout",
     "output_type": "stream",
     "text": [
      "26/26 [==============================] - 0s 4ms/step\n"
     ]
    },
    {
     "data": {
      "image/png": "[encoded data removed]",
      "text/plain": [
       "<Figure size 640x480 with 1 Axes>"
      ]
     },
     "metadata": {},
     "output_type": "display_data"
    }
   ],
   "source": [
    "y_pred = model.predict(X_test)\n",
    "Y_test= le.inverse_transform(np.argmax(Y_test, axis=1))\n",
    "y_pred= le.inverse_transform(np.argmax(y_pred, axis=1))\n",
    "\n",
    "plot_confusion_matrix(Y_test, y_pred,\n",
    "                      classes=unique_labels(Y_test, y_pred))\n"
   ]
  },
  {
   "cell_type": "code",
   "execution_count": 11,
   "metadata": {},
   "outputs": [
    {
     "data": {
      "image/png": "[encoded data removed]",
      "text/plain": [
       "<Figure size 640x480 with 1 Axes>"
      ]
     },
     "metadata": {},
     "output_type": "display_data"
    }
   ],
   "source": [
    "import pandas as pd\n",
    "\n",
    "# Make a plot for the loss\n",
    "pd.DataFrame(history.history)[['loss', 'val_loss']].plot()\n",
    "plt.title(\"Loss\")\n",
    "plt.show()\n"
   ]
  },
  {
   "cell_type": "code",
   "execution_count": 12,
   "metadata": {},
   "outputs": [
    {
     "data": {
      "image/png": "[encoded data removed]",
      "text/plain": [
       "<Figure size 640x480 with 1 Axes>"
      ]
     },
     "metadata": {},
     "output_type": "display_data"
    }
   ],
   "source": [
    "# Make a plot for the accuracy\n",
    "pd.DataFrame(history.history)[['accuracy', 'val_accuracy']].plot()\n",
    "plt.title(\"Accuracy\")\n",
    "plt.show()\n"
   ]
  },
  {
   "attachments": {},
   "cell_type": "markdown",
   "metadata": {},
   "source": [
    "Exportamos el modelo"
   ]
  },
  {
   "cell_type": "code",
   "execution_count": null,
   "metadata": {},
   "outputs": [
    {
     "name": "stderr",
     "output_type": "stream",
     "text": [
      "A subdirectory or file Models already exists.\n"
     ]
    }
   ],
   "source": [
    "!mkdir Models"
   ]
  },
  {
   "cell_type": "code",
   "execution_count": null,
   "metadata": {},
   "outputs": [
    {
     "data": {
      "text/plain": [
       "['./Models/label_encoder_img.pkl']"
      ]
     },
     "execution_count": 37,
     "metadata": {},
     "output_type": "execute_result"
    }
   ],
   "source": [
    "import tensorflow as tf\n",
    "import joblib\n",
    "\n",
    "# Guarda el modelo en formato h5\n",
    "tf.keras.models.save_model(model, './Models/modeloRN_img.h5')\n",
    "joblib.dump(le, './Models/label_encoder_img.pkl')"
   ]
  }
 ],
 "metadata": {
  "kernelspec": {
   "display_name": "base",
   "language": "python",
   "name": "python3"
  },
  "language_info": {
   "codemirror_mode": {
    "name": "ipython",
    "version": 3
   },
   "file_extension": ".py",
   "mimetype": "text/x-python",
   "name": "python",
   "nbconvert_exporter": "python",
   "pygments_lexer": "ipython3",
   "version": "3.10.10"
  },
  "orig_nbformat": 4
 },
 "nbformat": 4,
 "nbformat_minor": 2
}
